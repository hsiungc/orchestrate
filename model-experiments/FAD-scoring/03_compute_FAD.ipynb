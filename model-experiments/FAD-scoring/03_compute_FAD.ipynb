{
 "cells": [
  {
   "cell_type": "code",
   "execution_count": 1,
   "metadata": {},
   "outputs": [
    {
     "name": "stdout",
     "output_type": "stream",
     "text": [
      "Requirement already satisfied: frechet_audio_distance in /home/ktrinh/miniconda3/envs/commu-env/lib/python3.8/site-packages (0.2.0)\n",
      "Requirement already satisfied: numpy==1.23.4 in /home/ktrinh/miniconda3/envs/commu-env/lib/python3.8/site-packages (from frechet_audio_distance) (1.23.4)\n",
      "Requirement already satisfied: torch in /home/ktrinh/miniconda3/envs/commu-env/lib/python3.8/site-packages (from frechet_audio_distance) (2.0.0+cu118)\n",
      "Requirement already satisfied: scipy==1.10.1 in /home/ktrinh/miniconda3/envs/commu-env/lib/python3.8/site-packages (from frechet_audio_distance) (1.10.1)\n",
      "Requirement already satisfied: tqdm in /home/ktrinh/miniconda3/envs/commu-env/lib/python3.8/site-packages (from frechet_audio_distance) (4.66.1)\n",
      "Requirement already satisfied: soundfile in /home/ktrinh/miniconda3/envs/commu-env/lib/python3.8/site-packages (from frechet_audio_distance) (0.12.1)\n",
      "Requirement already satisfied: resampy in /home/ktrinh/miniconda3/envs/commu-env/lib/python3.8/site-packages (from frechet_audio_distance) (0.4.2)\n",
      "Requirement already satisfied: torchlibrosa in /home/ktrinh/miniconda3/envs/commu-env/lib/python3.8/site-packages (from frechet_audio_distance) (0.1.0)\n",
      "Requirement already satisfied: laion-clap in /home/ktrinh/miniconda3/envs/commu-env/lib/python3.8/site-packages (from frechet_audio_distance) (1.1.2)\n",
      "Requirement already satisfied: transformers<=4.30.2 in /home/ktrinh/miniconda3/envs/commu-env/lib/python3.8/site-packages (from frechet_audio_distance) (4.30.2)\n",
      "Requirement already satisfied: torchaudio in /home/ktrinh/miniconda3/envs/commu-env/lib/python3.8/site-packages (from frechet_audio_distance) (2.0.1+cu118)\n",
      "Requirement already satisfied: filelock in /home/ktrinh/miniconda3/envs/commu-env/lib/python3.8/site-packages (from transformers<=4.30.2->frechet_audio_distance) (3.12.4)\n",
      "Requirement already satisfied: huggingface-hub<1.0,>=0.14.1 in /home/ktrinh/miniconda3/envs/commu-env/lib/python3.8/site-packages (from transformers<=4.30.2->frechet_audio_distance) (0.19.4)\n",
      "Requirement already satisfied: packaging>=20.0 in /home/ktrinh/miniconda3/envs/commu-env/lib/python3.8/site-packages (from transformers<=4.30.2->frechet_audio_distance) (23.1)\n",
      "Requirement already satisfied: pyyaml>=5.1 in /home/ktrinh/miniconda3/envs/commu-env/lib/python3.8/site-packages (from transformers<=4.30.2->frechet_audio_distance) (6.0.1)\n",
      "Requirement already satisfied: regex!=2019.12.17 in /home/ktrinh/miniconda3/envs/commu-env/lib/python3.8/site-packages (from transformers<=4.30.2->frechet_audio_distance) (2023.10.3)\n",
      "Requirement already satisfied: requests in /home/ktrinh/miniconda3/envs/commu-env/lib/python3.8/site-packages (from transformers<=4.30.2->frechet_audio_distance) (2.31.0)\n",
      "Requirement already satisfied: tokenizers!=0.11.3,<0.14,>=0.11.1 in /home/ktrinh/miniconda3/envs/commu-env/lib/python3.8/site-packages (from transformers<=4.30.2->frechet_audio_distance) (0.13.3)\n",
      "Requirement already satisfied: safetensors>=0.3.1 in /home/ktrinh/miniconda3/envs/commu-env/lib/python3.8/site-packages (from transformers<=4.30.2->frechet_audio_distance) (0.4.1)\n",
      "Requirement already satisfied: librosa in /home/ktrinh/miniconda3/envs/commu-env/lib/python3.8/site-packages (from laion-clap->frechet_audio_distance) (0.10.1)\n",
      "Requirement already satisfied: ftfy in /home/ktrinh/miniconda3/envs/commu-env/lib/python3.8/site-packages (from laion-clap->frechet_audio_distance) (6.1.3)\n",
      "Requirement already satisfied: braceexpand in /home/ktrinh/miniconda3/envs/commu-env/lib/python3.8/site-packages (from laion-clap->frechet_audio_distance) (0.1.7)\n",
      "Requirement already satisfied: webdataset in /home/ktrinh/miniconda3/envs/commu-env/lib/python3.8/site-packages (from laion-clap->frechet_audio_distance) (0.2.79)\n",
      "Requirement already satisfied: wget in /home/ktrinh/miniconda3/envs/commu-env/lib/python3.8/site-packages (from laion-clap->frechet_audio_distance) (3.2)\n",
      "Requirement already satisfied: wandb in /home/ktrinh/miniconda3/envs/commu-env/lib/python3.8/site-packages (from laion-clap->frechet_audio_distance) (0.16.0)\n",
      "Requirement already satisfied: llvmlite in /home/ktrinh/miniconda3/envs/commu-env/lib/python3.8/site-packages (from laion-clap->frechet_audio_distance) (0.41.1)\n",
      "Requirement already satisfied: scikit-learn in /home/ktrinh/miniconda3/envs/commu-env/lib/python3.8/site-packages (from laion-clap->frechet_audio_distance) (1.3.2)\n",
      "Requirement already satisfied: pandas in /home/ktrinh/miniconda3/envs/commu-env/lib/python3.8/site-packages (from laion-clap->frechet_audio_distance) (2.0.3)\n",
      "Requirement already satisfied: h5py in /home/ktrinh/miniconda3/envs/commu-env/lib/python3.8/site-packages (from laion-clap->frechet_audio_distance) (3.10.0)\n",
      "Requirement already satisfied: progressbar in /home/ktrinh/miniconda3/envs/commu-env/lib/python3.8/site-packages (from laion-clap->frechet_audio_distance) (2.5)\n",
      "Requirement already satisfied: numba>=0.53 in /home/ktrinh/miniconda3/envs/commu-env/lib/python3.8/site-packages (from resampy->frechet_audio_distance) (0.58.1)\n",
      "Requirement already satisfied: cffi>=1.0 in /home/ktrinh/miniconda3/envs/commu-env/lib/python3.8/site-packages (from soundfile->frechet_audio_distance) (1.16.0)\n",
      "Requirement already satisfied: typing-extensions in /home/ktrinh/miniconda3/envs/commu-env/lib/python3.8/site-packages (from torch->frechet_audio_distance) (4.8.0)\n",
      "Requirement already satisfied: sympy in /home/ktrinh/miniconda3/envs/commu-env/lib/python3.8/site-packages (from torch->frechet_audio_distance) (1.12)\n",
      "Requirement already satisfied: networkx in /home/ktrinh/miniconda3/envs/commu-env/lib/python3.8/site-packages (from torch->frechet_audio_distance) (3.1)\n",
      "Requirement already satisfied: jinja2 in /home/ktrinh/miniconda3/envs/commu-env/lib/python3.8/site-packages (from torch->frechet_audio_distance) (3.1.2)\n",
      "Requirement already satisfied: triton==2.0.0 in /home/ktrinh/miniconda3/envs/commu-env/lib/python3.8/site-packages (from torch->frechet_audio_distance) (2.0.0)\n",
      "Requirement already satisfied: cmake in /home/ktrinh/miniconda3/envs/commu-env/lib/python3.8/site-packages (from triton==2.0.0->torch->frechet_audio_distance) (3.27.5)\n",
      "Requirement already satisfied: lit in /home/ktrinh/miniconda3/envs/commu-env/lib/python3.8/site-packages (from triton==2.0.0->torch->frechet_audio_distance) (17.0.1)\n",
      "Requirement already satisfied: pycparser in /home/ktrinh/miniconda3/envs/commu-env/lib/python3.8/site-packages (from cffi>=1.0->soundfile->frechet_audio_distance) (2.21)\n",
      "Requirement already satisfied: fsspec>=2023.5.0 in /home/ktrinh/miniconda3/envs/commu-env/lib/python3.8/site-packages (from huggingface-hub<1.0,>=0.14.1->transformers<=4.30.2->frechet_audio_distance) (2023.10.0)\n",
      "Requirement already satisfied: audioread>=2.1.9 in /home/ktrinh/miniconda3/envs/commu-env/lib/python3.8/site-packages (from librosa->laion-clap->frechet_audio_distance) (3.0.1)\n",
      "Requirement already satisfied: joblib>=0.14 in /home/ktrinh/miniconda3/envs/commu-env/lib/python3.8/site-packages (from librosa->laion-clap->frechet_audio_distance) (1.3.2)\n",
      "Requirement already satisfied: decorator>=4.3.0 in /home/ktrinh/miniconda3/envs/commu-env/lib/python3.8/site-packages (from librosa->laion-clap->frechet_audio_distance) (5.1.1)\n",
      "Requirement already satisfied: pooch>=1.0 in /home/ktrinh/miniconda3/envs/commu-env/lib/python3.8/site-packages (from librosa->laion-clap->frechet_audio_distance) (1.8.0)\n",
      "Requirement already satisfied: soxr>=0.3.2 in /home/ktrinh/miniconda3/envs/commu-env/lib/python3.8/site-packages (from librosa->laion-clap->frechet_audio_distance) (0.3.7)\n",
      "Requirement already satisfied: lazy-loader>=0.1 in /home/ktrinh/miniconda3/envs/commu-env/lib/python3.8/site-packages (from librosa->laion-clap->frechet_audio_distance) (0.3)\n",
      "Requirement already satisfied: msgpack>=1.0 in /home/ktrinh/miniconda3/envs/commu-env/lib/python3.8/site-packages (from librosa->laion-clap->frechet_audio_distance) (1.0.7)\n",
      "Requirement already satisfied: importlib-metadata in /home/ktrinh/miniconda3/envs/commu-env/lib/python3.8/site-packages (from numba>=0.53->resampy->frechet_audio_distance) (6.8.0)\n",
      "Requirement already satisfied: threadpoolctl>=2.0.0 in /home/ktrinh/miniconda3/envs/commu-env/lib/python3.8/site-packages (from scikit-learn->laion-clap->frechet_audio_distance) (3.2.0)\n",
      "Requirement already satisfied: wcwidth<0.3.0,>=0.2.12 in /home/ktrinh/miniconda3/envs/commu-env/lib/python3.8/site-packages (from ftfy->laion-clap->frechet_audio_distance) (0.2.12)\n",
      "Requirement already satisfied: MarkupSafe>=2.0 in /home/ktrinh/miniconda3/envs/commu-env/lib/python3.8/site-packages (from jinja2->torch->frechet_audio_distance) (2.1.3)\n",
      "Requirement already satisfied: python-dateutil>=2.8.2 in /home/ktrinh/miniconda3/envs/commu-env/lib/python3.8/site-packages (from pandas->laion-clap->frechet_audio_distance) (2.8.2)\n",
      "Requirement already satisfied: pytz>=2020.1 in /home/ktrinh/miniconda3/envs/commu-env/lib/python3.8/site-packages (from pandas->laion-clap->frechet_audio_distance) (2023.3.post1)\n",
      "Requirement already satisfied: tzdata>=2022.1 in /home/ktrinh/miniconda3/envs/commu-env/lib/python3.8/site-packages (from pandas->laion-clap->frechet_audio_distance) (2023.3)\n",
      "Requirement already satisfied: charset-normalizer<4,>=2 in /home/ktrinh/miniconda3/envs/commu-env/lib/python3.8/site-packages (from requests->transformers<=4.30.2->frechet_audio_distance) (3.2.0)\n",
      "Requirement already satisfied: idna<4,>=2.5 in /home/ktrinh/miniconda3/envs/commu-env/lib/python3.8/site-packages (from requests->transformers<=4.30.2->frechet_audio_distance) (3.4)\n",
      "Requirement already satisfied: urllib3<3,>=1.21.1 in /home/ktrinh/miniconda3/envs/commu-env/lib/python3.8/site-packages (from requests->transformers<=4.30.2->frechet_audio_distance) (1.26.18)\n",
      "Requirement already satisfied: certifi>=2017.4.17 in /home/ktrinh/miniconda3/envs/commu-env/lib/python3.8/site-packages (from requests->transformers<=4.30.2->frechet_audio_distance) (2023.7.22)\n",
      "Requirement already satisfied: mpmath>=0.19 in /home/ktrinh/miniconda3/envs/commu-env/lib/python3.8/site-packages (from sympy->torch->frechet_audio_distance) (1.3.0)\n",
      "Requirement already satisfied: Click!=8.0.0,>=7.1 in /home/ktrinh/miniconda3/envs/commu-env/lib/python3.8/site-packages (from wandb->laion-clap->frechet_audio_distance) (8.1.7)\n",
      "Requirement already satisfied: GitPython!=3.1.29,>=1.0.0 in /home/ktrinh/miniconda3/envs/commu-env/lib/python3.8/site-packages (from wandb->laion-clap->frechet_audio_distance) (3.1.40)\n",
      "Requirement already satisfied: psutil>=5.0.0 in /home/ktrinh/miniconda3/envs/commu-env/lib/python3.8/site-packages (from wandb->laion-clap->frechet_audio_distance) (5.9.6)\n",
      "Requirement already satisfied: sentry-sdk>=1.0.0 in /home/ktrinh/miniconda3/envs/commu-env/lib/python3.8/site-packages (from wandb->laion-clap->frechet_audio_distance) (1.37.1)\n",
      "Requirement already satisfied: docker-pycreds>=0.4.0 in /home/ktrinh/miniconda3/envs/commu-env/lib/python3.8/site-packages (from wandb->laion-clap->frechet_audio_distance) (0.4.0)\n",
      "Requirement already satisfied: setproctitle in /home/ktrinh/miniconda3/envs/commu-env/lib/python3.8/site-packages (from wandb->laion-clap->frechet_audio_distance) (1.3.3)\n",
      "Requirement already satisfied: setuptools in /home/ktrinh/miniconda3/envs/commu-env/lib/python3.8/site-packages (from wandb->laion-clap->frechet_audio_distance) (68.2.2)\n",
      "Requirement already satisfied: appdirs>=1.4.3 in /home/ktrinh/miniconda3/envs/commu-env/lib/python3.8/site-packages (from wandb->laion-clap->frechet_audio_distance) (1.4.4)\n",
      "Requirement already satisfied: protobuf!=4.21.0,<5,>=3.12.0 in /home/ktrinh/miniconda3/envs/commu-env/lib/python3.8/site-packages (from wandb->laion-clap->frechet_audio_distance) (4.25.1)\n",
      "Requirement already satisfied: six>=1.4.0 in /home/ktrinh/miniconda3/envs/commu-env/lib/python3.8/site-packages (from docker-pycreds>=0.4.0->wandb->laion-clap->frechet_audio_distance) (1.16.0)\n",
      "Requirement already satisfied: gitdb<5,>=4.0.1 in /home/ktrinh/miniconda3/envs/commu-env/lib/python3.8/site-packages (from GitPython!=3.1.29,>=1.0.0->wandb->laion-clap->frechet_audio_distance) (4.0.11)\n",
      "Requirement already satisfied: platformdirs>=2.5.0 in /home/ktrinh/miniconda3/envs/commu-env/lib/python3.8/site-packages (from pooch>=1.0->librosa->laion-clap->frechet_audio_distance) (3.11.0)\n",
      "Requirement already satisfied: zipp>=0.5 in /home/ktrinh/miniconda3/envs/commu-env/lib/python3.8/site-packages (from importlib-metadata->numba>=0.53->resampy->frechet_audio_distance) (3.17.0)\n",
      "Requirement already satisfied: smmap<6,>=3.0.1 in /home/ktrinh/miniconda3/envs/commu-env/lib/python3.8/site-packages (from gitdb<5,>=4.0.1->GitPython!=3.1.29,>=1.0.0->wandb->laion-clap->frechet_audio_distance) (5.0.1)\n"
     ]
    }
   ],
   "source": [
    "!pip install frechet_audio_distance"
   ]
  },
  {
   "cell_type": "code",
   "execution_count": 6,
   "metadata": {},
   "outputs": [
    {
     "name": "stderr",
     "output_type": "stream",
     "text": [
      "Using cache found in /home/ktrinh/.cache/torch/hub/harritaylor_torchvggish_master\n"
     ]
    }
   ],
   "source": [
    "import os\n",
    "import numpy as np\n",
    "from frechet_audio_distance import FrechetAudioDistance\n",
    "from tqdm.notebook import tqdm\n",
    "\n",
    "# to use `vggish`\n",
    "frechet = FrechetAudioDistance(\n",
    "    model_name=\"vggish\",\n",
    "    use_pca=False, \n",
    "    use_activation=False,\n",
    "    verbose=False\n",
    ")\n",
    "\n",
    "# to use `vggish`\n",
    "frechet_2 = FrechetAudioDistance(\n",
    "    model_name=\"pann\",\n",
    "    use_pca=False, \n",
    "    use_activation=False,\n",
    "    verbose=False\n",
    ")"
   ]
  },
  {
   "cell_type": "code",
   "execution_count": 3,
   "metadata": {},
   "outputs": [],
   "source": [
    "DATA_DIR = './dataset'\n",
    "background = f'{DATA_DIR}/commu_val/wav'"
   ]
  },
  {
   "cell_type": "markdown",
   "metadata": {},
   "source": [
    "# FAD Score For ComMU Best Checkpoint"
   ]
  },
  {
   "cell_type": "code",
   "execution_count": null,
   "metadata": {},
   "outputs": [
    {
     "data": {
      "text/plain": [
       "0.03539673959665812"
      ]
     },
     "execution_count": 6,
     "metadata": {},
     "output_type": "execute_result"
    }
   ],
   "source": [
    "# trying feeding FAD the wav files\n",
    "test = f\"{DATA_DIR}/original-commu/wav\"\n",
    "fad_score = frechet.score(background, test, dtype=\"float32\")\n",
    "fad_score"
   ]
  },
  {
   "cell_type": "markdown",
   "metadata": {},
   "source": [
    "# FAD Score For ComMU + MetaMIDI Best Checkpoint 31K"
   ]
  },
  {
   "cell_type": "code",
   "execution_count": 7,
   "metadata": {},
   "outputs": [
    {
     "data": {
      "text/plain": [
       "3.1796833370145503"
      ]
     },
     "execution_count": 7,
     "metadata": {},
     "output_type": "execute_result"
    }
   ],
   "source": [
    "# trying feeding FAD the wav files\n",
    "test = f\"{DATA_DIR}/reduced_encoding_val/wav/31K\"\n",
    "fad_score = frechet.score(background, test, dtype=\"float32\")\n",
    "fad_score"
   ]
  },
  {
   "cell_type": "markdown",
   "metadata": {},
   "source": [
    "# FAD Score For ComMU + MetaMIDI Best Checkpoint 52K"
   ]
  },
  {
   "cell_type": "code",
   "execution_count": 6,
   "metadata": {},
   "outputs": [
    {
     "data": {
      "text/plain": [
       "0.5547203787464134"
      ]
     },
     "execution_count": 6,
     "metadata": {},
     "output_type": "execute_result"
    }
   ],
   "source": [
    "# trying feeding FAD the wav files\n",
    "test = f\"{DATA_DIR}/reduced_encoding_val/wav/52K\"\n",
    "fad_score = frechet.score(background, test, dtype=\"float32\")\n",
    "fad_score"
   ]
  },
  {
   "cell_type": "markdown",
   "metadata": {},
   "source": [
    "# Inst FAD Score For ComMU + MetaMIDI Best Train NLL"
   ]
  },
  {
   "cell_type": "code",
   "execution_count": 15,
   "metadata": {},
   "outputs": [],
   "source": [
    "# song by inst\n",
    "num_songs = {\n",
    "    \"acoustic_bass\":117,\n",
    "    \"acoustic_grand_piano\":40,\n",
    "    \"acoustic_guitar_nylon\":129,\n",
    "    \"acoustic_piano\":180,\n",
    "    \"alto_sax\":24,\n",
    "    \"choir_aahs\":47,\n",
    "    \"electric_guitar_muted\":111,\n",
    "    \"ensemble\":174,\n",
    "    \"overdriven_guitar\":107,\n",
    "    \"piccolo\":40,\n",
    "    \"soprano_sax\":42,\n",
    "    \"string_cello\":64,\n",
    "    \"string_ensemble\":228,\n",
    "    \"string_violin\":94,\n",
    "    \"tango_accordion\":66,\n",
    "    \"timpani\":90,\n",
    "    \"trumpet\":24,\n",
    "    \"voice_oohs\":25\n",
    "}\n"
   ]
  },
  {
   "cell_type": "code",
   "execution_count": 12,
   "metadata": {},
   "outputs": [
    {
     "data": {
      "application/vnd.jupyter.widget-view+json": {
       "model_id": "608e3fb5e4704eeeb15451f113f5a304",
       "version_major": 2,
       "version_minor": 0
      },
      "text/plain": [
       "  0%|          | 0/19 [00:00<?, ?it/s]"
      ]
     },
     "metadata": {},
     "output_type": "display_data"
    },
    {
     "name": "stdout",
     "output_type": "stream",
     "text": [
      "acoustic_bass FAD Score: 7.054\n",
      "acoustic_grand_piano FAD Score: 6.404\n",
      "acoustic_guitar_nylon FAD Score: 12.322\n",
      "acoustic_piano FAD Score: 0.092\n",
      "alto_sax FAD Score: 9.477\n",
      "choir_aahs FAD Score: 9.744\n",
      "electric_guitar_muted FAD Score: 6.747\n",
      "ensemble FAD Score: 7.702\n",
      "overdriven_guitar FAD Score: 6.641\n",
      "piccolo FAD Score: 13.081\n",
      "soprano_sax FAD Score: 14.642\n",
      "string_cello FAD Score: 1.746\n",
      "string_ensemble FAD Score: 2.79\n",
      "string_violin FAD Score: 0.785\n",
      "tango_accordion FAD Score: 9.348\n",
      "timpani FAD Score: 9.475\n",
      "trumpet FAD Score: 25.54\n",
      "voice_oohs FAD Score: 6.235\n"
     ]
    },
    {
     "data": {
      "text/plain": [
       "{'acoustic_bass': 7.053880035393224,\n",
       " 'acoustic_grand_piano': 6.404413520305997,\n",
       " 'acoustic_guitar_nylon': 12.321594749535663,\n",
       " 'acoustic_piano': 0.09156542648480759,\n",
       " 'alto_sax': 9.476894771033045,\n",
       " 'choir_aahs': 9.743966998096788,\n",
       " 'electric_guitar_muted': 6.746879782292704,\n",
       " 'ensemble': 7.702424154234347,\n",
       " 'overdriven_guitar': 6.640956896458407,\n",
       " 'piccolo': 13.080654693735738,\n",
       " 'soprano_sax': 14.641825733462918,\n",
       " 'string_cello': 1.7463360692081498,\n",
       " 'string_ensemble': 2.7897926102209514,\n",
       " 'string_violin': 0.7852069609974315,\n",
       " 'tango_accordion': 9.347758021211002,\n",
       " 'timpani': 9.474919959328604,\n",
       " 'trumpet': 25.54039312160373,\n",
       " 'voice_oohs': 6.234708569068884}"
      ]
     },
     "execution_count": 12,
     "metadata": {},
     "output_type": "execute_result"
    }
   ],
   "source": [
    "background = f'{DATA_DIR}/raw_validation_data/'\n",
    "my_list = os.listdir(background)\n",
    "data = {}\n",
    "for folder in tqdm(my_list):\n",
    "    if folder == 'raw': continue\n",
    "\n",
    "    bg = f'{background}/{folder}/wav'\n",
    "    eval_dir = f'{DATA_DIR}/reduced_encoding_val/best_train_NLL/{folder}/wav'\n",
    "    fad_score = frechet.score(bg, eval_dir, dtype=\"float32\")\n",
    "    \n",
    "    print(f\"{folder} FAD Score:\", np.round(fad_score, 3))\n",
    "    data[folder] = fad_score\n",
    "data\n"
   ]
  },
  {
   "cell_type": "code",
   "execution_count": 20,
   "metadata": {},
   "outputs": [
    {
     "data": {
      "text/html": [
       "<div>\n",
       "<style scoped>\n",
       "    .dataframe tbody tr th:only-of-type {\n",
       "        vertical-align: middle;\n",
       "    }\n",
       "\n",
       "    .dataframe tbody tr th {\n",
       "        vertical-align: top;\n",
       "    }\n",
       "\n",
       "    .dataframe thead th {\n",
       "        text-align: right;\n",
       "    }\n",
       "</style>\n",
       "<table border=\"1\" class=\"dataframe\">\n",
       "  <thead>\n",
       "    <tr style=\"text-align: right;\">\n",
       "      <th></th>\n",
       "      <th>FAD Score</th>\n",
       "      <th>Num Songs</th>\n",
       "      <th>Normalized FAD Score</th>\n",
       "    </tr>\n",
       "  </thead>\n",
       "  <tbody>\n",
       "    <tr>\n",
       "      <th>acoustic_bass</th>\n",
       "      <td>7.053880</td>\n",
       "      <td>117</td>\n",
       "      <td>0.060290</td>\n",
       "    </tr>\n",
       "    <tr>\n",
       "      <th>acoustic_grand_piano</th>\n",
       "      <td>6.404414</td>\n",
       "      <td>40</td>\n",
       "      <td>0.160110</td>\n",
       "    </tr>\n",
       "    <tr>\n",
       "      <th>acoustic_guitar_nylon</th>\n",
       "      <td>12.321595</td>\n",
       "      <td>129</td>\n",
       "      <td>0.095516</td>\n",
       "    </tr>\n",
       "    <tr>\n",
       "      <th>acoustic_piano</th>\n",
       "      <td>0.091565</td>\n",
       "      <td>180</td>\n",
       "      <td>0.000509</td>\n",
       "    </tr>\n",
       "    <tr>\n",
       "      <th>alto_sax</th>\n",
       "      <td>9.476895</td>\n",
       "      <td>24</td>\n",
       "      <td>0.394871</td>\n",
       "    </tr>\n",
       "    <tr>\n",
       "      <th>choir_aahs</th>\n",
       "      <td>9.743967</td>\n",
       "      <td>47</td>\n",
       "      <td>0.207318</td>\n",
       "    </tr>\n",
       "    <tr>\n",
       "      <th>electric_guitar_muted</th>\n",
       "      <td>6.746880</td>\n",
       "      <td>111</td>\n",
       "      <td>0.060783</td>\n",
       "    </tr>\n",
       "    <tr>\n",
       "      <th>ensemble</th>\n",
       "      <td>7.702424</td>\n",
       "      <td>174</td>\n",
       "      <td>0.044267</td>\n",
       "    </tr>\n",
       "    <tr>\n",
       "      <th>overdriven_guitar</th>\n",
       "      <td>6.640957</td>\n",
       "      <td>107</td>\n",
       "      <td>0.062065</td>\n",
       "    </tr>\n",
       "    <tr>\n",
       "      <th>piccolo</th>\n",
       "      <td>13.080655</td>\n",
       "      <td>40</td>\n",
       "      <td>0.327016</td>\n",
       "    </tr>\n",
       "    <tr>\n",
       "      <th>soprano_sax</th>\n",
       "      <td>14.641826</td>\n",
       "      <td>42</td>\n",
       "      <td>0.348615</td>\n",
       "    </tr>\n",
       "    <tr>\n",
       "      <th>string_cello</th>\n",
       "      <td>1.746336</td>\n",
       "      <td>64</td>\n",
       "      <td>0.027287</td>\n",
       "    </tr>\n",
       "    <tr>\n",
       "      <th>string_ensemble</th>\n",
       "      <td>2.789793</td>\n",
       "      <td>228</td>\n",
       "      <td>0.012236</td>\n",
       "    </tr>\n",
       "    <tr>\n",
       "      <th>string_violin</th>\n",
       "      <td>0.785207</td>\n",
       "      <td>94</td>\n",
       "      <td>0.008353</td>\n",
       "    </tr>\n",
       "    <tr>\n",
       "      <th>tango_accordion</th>\n",
       "      <td>9.347758</td>\n",
       "      <td>66</td>\n",
       "      <td>0.141633</td>\n",
       "    </tr>\n",
       "    <tr>\n",
       "      <th>timpani</th>\n",
       "      <td>9.474920</td>\n",
       "      <td>90</td>\n",
       "      <td>0.105277</td>\n",
       "    </tr>\n",
       "    <tr>\n",
       "      <th>trumpet</th>\n",
       "      <td>25.540393</td>\n",
       "      <td>24</td>\n",
       "      <td>1.064183</td>\n",
       "    </tr>\n",
       "    <tr>\n",
       "      <th>voice_oohs</th>\n",
       "      <td>6.234709</td>\n",
       "      <td>25</td>\n",
       "      <td>0.249388</td>\n",
       "    </tr>\n",
       "  </tbody>\n",
       "</table>\n",
       "</div>"
      ],
      "text/plain": [
       "                       FAD Score  Num Songs  Normalized FAD Score\n",
       "acoustic_bass           7.053880        117              0.060290\n",
       "acoustic_grand_piano    6.404414         40              0.160110\n",
       "acoustic_guitar_nylon  12.321595        129              0.095516\n",
       "acoustic_piano          0.091565        180              0.000509\n",
       "alto_sax                9.476895         24              0.394871\n",
       "choir_aahs              9.743967         47              0.207318\n",
       "electric_guitar_muted   6.746880        111              0.060783\n",
       "ensemble                7.702424        174              0.044267\n",
       "overdriven_guitar       6.640957        107              0.062065\n",
       "piccolo                13.080655         40              0.327016\n",
       "soprano_sax            14.641826         42              0.348615\n",
       "string_cello            1.746336         64              0.027287\n",
       "string_ensemble         2.789793        228              0.012236\n",
       "string_violin           0.785207         94              0.008353\n",
       "tango_accordion         9.347758         66              0.141633\n",
       "timpani                 9.474920         90              0.105277\n",
       "trumpet                25.540393         24              1.064183\n",
       "voice_oohs              6.234709         25              0.249388"
      ]
     },
     "execution_count": 20,
     "metadata": {},
     "output_type": "execute_result"
    }
   ],
   "source": [
    "# turn into dataframe\n",
    "import pandas as pd\n",
    "df = pd.DataFrame.from_dict(data, orient='index', columns=['FAD Score'])\n",
    "df_numsongs = pd.DataFrame.from_dict(num_songs, orient='index', columns=['Num Songs'])\n",
    "df = df.join(df_numsongs)\n",
    "df['Normalized FAD Score'] = df['FAD Score'] / (df['Num Songs'])\n",
    "df"
   ]
  },
  {
   "cell_type": "code",
   "execution_count": 21,
   "metadata": {},
   "outputs": [],
   "source": [
    "df.to_csv(f'{DATA_DIR}/inst_best_train_NLL_FAD_scores.csv')"
   ]
  },
  {
   "cell_type": "code",
   "execution_count": null,
   "metadata": {},
   "outputs": [],
   "source": []
  },
  {
   "cell_type": "markdown",
   "metadata": {},
   "source": [
    "# Inst FAD Score For ComMU + MetaMIDI Best Val NLL"
   ]
  },
  {
   "cell_type": "code",
   "execution_count": 22,
   "metadata": {},
   "outputs": [
    {
     "data": {
      "application/vnd.jupyter.widget-view+json": {
       "model_id": "6eb6ad0c52484e968a301c1345f74eb5",
       "version_major": 2,
       "version_minor": 0
      },
      "text/plain": [
       "  0%|          | 0/19 [00:00<?, ?it/s]"
      ]
     },
     "metadata": {},
     "output_type": "display_data"
    },
    {
     "name": "stdout",
     "output_type": "stream",
     "text": [
      "acoustic_bass FAD Score: 8.216\n",
      "acoustic_grand_piano FAD Score: 7.411\n",
      "acoustic_guitar_nylon FAD Score: 14.717\n",
      "acoustic_piano FAD Score: 0.082\n",
      "alto_sax FAD Score: 10.416\n",
      "choir_aahs FAD Score: 9.172\n",
      "electric_guitar_muted FAD Score: 7.249\n",
      "ensemble FAD Score: 8.698\n",
      "overdriven_guitar FAD Score: 7.664\n",
      "piccolo FAD Score: 13.64\n",
      "soprano_sax FAD Score: 15.134\n",
      "string_cello FAD Score: 2.61\n",
      "string_ensemble FAD Score: 3.017\n",
      "string_violin FAD Score: 1.211\n",
      "tango_accordion FAD Score: 10.966\n",
      "timpani FAD Score: 8.553\n",
      "trumpet FAD Score: 26.452\n",
      "voice_oohs FAD Score: 5.895\n"
     ]
    },
    {
     "data": {
      "text/plain": [
       "{'acoustic_bass': 8.215648657376038,\n",
       " 'acoustic_grand_piano': 7.410688241896903,\n",
       " 'acoustic_guitar_nylon': 14.717389573833463,\n",
       " 'acoustic_piano': 0.08220135309855436,\n",
       " 'alto_sax': 10.415541729549535,\n",
       " 'choir_aahs': 9.171911006865972,\n",
       " 'electric_guitar_muted': 7.249171439207823,\n",
       " 'ensemble': 8.698391646433185,\n",
       " 'overdriven_guitar': 7.663833817946939,\n",
       " 'piccolo': 13.639824455031741,\n",
       " 'soprano_sax': 15.133598233445833,\n",
       " 'string_cello': 2.6098104135215454,\n",
       " 'string_ensemble': 3.0166611905048466,\n",
       " 'string_violin': 1.2106677549933291,\n",
       " 'tango_accordion': 10.966150258228842,\n",
       " 'timpani': 8.553422057241853,\n",
       " 'trumpet': 26.451706035663108,\n",
       " 'voice_oohs': 5.894748131663471}"
      ]
     },
     "execution_count": 22,
     "metadata": {},
     "output_type": "execute_result"
    }
   ],
   "source": [
    "background = f'{DATA_DIR}/raw_validation_data/'\n",
    "my_list = os.listdir(background)\n",
    "data = {}\n",
    "for folder in tqdm(my_list):\n",
    "    if folder == 'raw': continue\n",
    "\n",
    "    bg = f'{background}/{folder}/wav'\n",
    "    eval_dir = f'{DATA_DIR}/reduced_encoding_val/best_val_NLL/{folder}/wav'\n",
    "    fad_score = frechet.score(bg, eval_dir, dtype=\"float32\")\n",
    "    \n",
    "    print(f\"{folder} FAD Score:\", np.round(fad_score, 3))\n",
    "    data[folder] = fad_score\n",
    "data\n"
   ]
  },
  {
   "cell_type": "code",
   "execution_count": 24,
   "metadata": {},
   "outputs": [
    {
     "data": {
      "text/html": [
       "<div>\n",
       "<style scoped>\n",
       "    .dataframe tbody tr th:only-of-type {\n",
       "        vertical-align: middle;\n",
       "    }\n",
       "\n",
       "    .dataframe tbody tr th {\n",
       "        vertical-align: top;\n",
       "    }\n",
       "\n",
       "    .dataframe thead th {\n",
       "        text-align: right;\n",
       "    }\n",
       "</style>\n",
       "<table border=\"1\" class=\"dataframe\">\n",
       "  <thead>\n",
       "    <tr style=\"text-align: right;\">\n",
       "      <th></th>\n",
       "      <th>FAD Score</th>\n",
       "      <th>Num Songs</th>\n",
       "      <th>Normalized FAD Score</th>\n",
       "    </tr>\n",
       "  </thead>\n",
       "  <tbody>\n",
       "    <tr>\n",
       "      <th>acoustic_bass</th>\n",
       "      <td>8.215649</td>\n",
       "      <td>117</td>\n",
       "      <td>0.070219</td>\n",
       "    </tr>\n",
       "    <tr>\n",
       "      <th>acoustic_grand_piano</th>\n",
       "      <td>7.410688</td>\n",
       "      <td>40</td>\n",
       "      <td>0.185267</td>\n",
       "    </tr>\n",
       "    <tr>\n",
       "      <th>acoustic_guitar_nylon</th>\n",
       "      <td>14.717390</td>\n",
       "      <td>129</td>\n",
       "      <td>0.114088</td>\n",
       "    </tr>\n",
       "    <tr>\n",
       "      <th>acoustic_piano</th>\n",
       "      <td>0.082201</td>\n",
       "      <td>180</td>\n",
       "      <td>0.000457</td>\n",
       "    </tr>\n",
       "    <tr>\n",
       "      <th>alto_sax</th>\n",
       "      <td>10.415542</td>\n",
       "      <td>24</td>\n",
       "      <td>0.433981</td>\n",
       "    </tr>\n",
       "    <tr>\n",
       "      <th>choir_aahs</th>\n",
       "      <td>9.171911</td>\n",
       "      <td>47</td>\n",
       "      <td>0.195147</td>\n",
       "    </tr>\n",
       "    <tr>\n",
       "      <th>electric_guitar_muted</th>\n",
       "      <td>7.249171</td>\n",
       "      <td>111</td>\n",
       "      <td>0.065308</td>\n",
       "    </tr>\n",
       "    <tr>\n",
       "      <th>ensemble</th>\n",
       "      <td>8.698392</td>\n",
       "      <td>174</td>\n",
       "      <td>0.049991</td>\n",
       "    </tr>\n",
       "    <tr>\n",
       "      <th>overdriven_guitar</th>\n",
       "      <td>7.663834</td>\n",
       "      <td>107</td>\n",
       "      <td>0.071625</td>\n",
       "    </tr>\n",
       "    <tr>\n",
       "      <th>piccolo</th>\n",
       "      <td>13.639824</td>\n",
       "      <td>40</td>\n",
       "      <td>0.340996</td>\n",
       "    </tr>\n",
       "    <tr>\n",
       "      <th>soprano_sax</th>\n",
       "      <td>15.133598</td>\n",
       "      <td>42</td>\n",
       "      <td>0.360324</td>\n",
       "    </tr>\n",
       "    <tr>\n",
       "      <th>string_cello</th>\n",
       "      <td>2.609810</td>\n",
       "      <td>64</td>\n",
       "      <td>0.040778</td>\n",
       "    </tr>\n",
       "    <tr>\n",
       "      <th>string_ensemble</th>\n",
       "      <td>3.016661</td>\n",
       "      <td>228</td>\n",
       "      <td>0.013231</td>\n",
       "    </tr>\n",
       "    <tr>\n",
       "      <th>string_violin</th>\n",
       "      <td>1.210668</td>\n",
       "      <td>94</td>\n",
       "      <td>0.012879</td>\n",
       "    </tr>\n",
       "    <tr>\n",
       "      <th>tango_accordion</th>\n",
       "      <td>10.966150</td>\n",
       "      <td>66</td>\n",
       "      <td>0.166154</td>\n",
       "    </tr>\n",
       "    <tr>\n",
       "      <th>timpani</th>\n",
       "      <td>8.553422</td>\n",
       "      <td>90</td>\n",
       "      <td>0.095038</td>\n",
       "    </tr>\n",
       "    <tr>\n",
       "      <th>trumpet</th>\n",
       "      <td>26.451706</td>\n",
       "      <td>24</td>\n",
       "      <td>1.102154</td>\n",
       "    </tr>\n",
       "    <tr>\n",
       "      <th>voice_oohs</th>\n",
       "      <td>5.894748</td>\n",
       "      <td>25</td>\n",
       "      <td>0.235790</td>\n",
       "    </tr>\n",
       "  </tbody>\n",
       "</table>\n",
       "</div>"
      ],
      "text/plain": [
       "                       FAD Score  Num Songs  Normalized FAD Score\n",
       "acoustic_bass           8.215649        117              0.070219\n",
       "acoustic_grand_piano    7.410688         40              0.185267\n",
       "acoustic_guitar_nylon  14.717390        129              0.114088\n",
       "acoustic_piano          0.082201        180              0.000457\n",
       "alto_sax               10.415542         24              0.433981\n",
       "choir_aahs              9.171911         47              0.195147\n",
       "electric_guitar_muted   7.249171        111              0.065308\n",
       "ensemble                8.698392        174              0.049991\n",
       "overdriven_guitar       7.663834        107              0.071625\n",
       "piccolo                13.639824         40              0.340996\n",
       "soprano_sax            15.133598         42              0.360324\n",
       "string_cello            2.609810         64              0.040778\n",
       "string_ensemble         3.016661        228              0.013231\n",
       "string_violin           1.210668         94              0.012879\n",
       "tango_accordion        10.966150         66              0.166154\n",
       "timpani                 8.553422         90              0.095038\n",
       "trumpet                26.451706         24              1.102154\n",
       "voice_oohs              5.894748         25              0.235790"
      ]
     },
     "execution_count": 24,
     "metadata": {},
     "output_type": "execute_result"
    }
   ],
   "source": [
    "# turn into dataframe\n",
    "import pandas as pd\n",
    "df = pd.DataFrame.from_dict(data, orient='index', columns=['FAD Score'])\n",
    "df_numsongs = pd.DataFrame.from_dict(num_songs, orient='index', columns=['Num Songs'])\n",
    "df = df.join(df_numsongs)\n",
    "df['Normalized FAD Score'] = df['FAD Score'] / (df['Num Songs'])\n",
    "df"
   ]
  },
  {
   "cell_type": "code",
   "execution_count": 25,
   "metadata": {},
   "outputs": [],
   "source": [
    "df.to_csv(f'{DATA_DIR}/inst_best_val_NLL_FAD_scores.csv')"
   ]
  },
  {
   "cell_type": "code",
   "execution_count": null,
   "metadata": {},
   "outputs": [],
   "source": []
  },
  {
   "cell_type": "markdown",
   "metadata": {},
   "source": [
    "# Inst FAD Score For ComMU + MetaMIDI Best Val NLL"
   ]
  },
  {
   "cell_type": "code",
   "execution_count": 26,
   "metadata": {},
   "outputs": [
    {
     "data": {
      "application/vnd.jupyter.widget-view+json": {
       "model_id": "46339ae0590446ab8ae50fc23b0c67d7",
       "version_major": 2,
       "version_minor": 0
      },
      "text/plain": [
       "  0%|          | 0/19 [00:00<?, ?it/s]"
      ]
     },
     "metadata": {},
     "output_type": "display_data"
    },
    {
     "name": "stdout",
     "output_type": "stream",
     "text": [
      "acoustic_bass FAD Score: 7.255\n",
      "acoustic_grand_piano FAD Score: 6.265\n",
      "acoustic_guitar_nylon FAD Score: 11.858\n",
      "acoustic_piano FAD Score: 0.118\n",
      "alto_sax FAD Score: 9.934\n",
      "choir_aahs FAD Score: 8.975\n",
      "electric_guitar_muted FAD Score: 6.595\n",
      "ensemble FAD Score: 7.544\n",
      "overdriven_guitar FAD Score: 6.391\n",
      "piccolo FAD Score: 13.97\n",
      "soprano_sax FAD Score: 14.889\n",
      "string_cello FAD Score: 0.7\n",
      "string_ensemble FAD Score: 2.74\n",
      "string_violin FAD Score: 0.362\n",
      "tango_accordion FAD Score: 8.762\n",
      "timpani FAD Score: 8.154\n",
      "trumpet FAD Score: 22.9\n",
      "voice_oohs FAD Score: 6.409\n"
     ]
    },
    {
     "data": {
      "text/plain": [
       "{'acoustic_bass': 7.25493901982482,\n",
       " 'acoustic_grand_piano': 6.265498248621595,\n",
       " 'acoustic_guitar_nylon': 11.85776105522206,\n",
       " 'acoustic_piano': 0.11812820214916098,\n",
       " 'alto_sax': 9.933524672824513,\n",
       " 'choir_aahs': 8.975296914376592,\n",
       " 'electric_guitar_muted': 6.594942478807926,\n",
       " 'ensemble': 7.544126384180409,\n",
       " 'overdriven_guitar': 6.391003532501291,\n",
       " 'piccolo': 13.969643741976334,\n",
       " 'soprano_sax': 14.888831617174986,\n",
       " 'string_cello': 0.7000534028172254,\n",
       " 'string_ensemble': 2.7400047528772475,\n",
       " 'string_violin': 0.3623028722281685,\n",
       " 'tango_accordion': 8.762257353592727,\n",
       " 'timpani': 8.154307720423018,\n",
       " 'trumpet': 22.899587958943556,\n",
       " 'voice_oohs': 6.408756157395797}"
      ]
     },
     "execution_count": 26,
     "metadata": {},
     "output_type": "execute_result"
    }
   ],
   "source": [
    "background = f'{DATA_DIR}/raw_validation_data/'\n",
    "my_list = os.listdir(background)\n",
    "data = {}\n",
    "for folder in tqdm(my_list):\n",
    "    if folder == 'raw': continue\n",
    "\n",
    "    bg = f'{background}/{folder}/wav'\n",
    "    eval_dir = f'{DATA_DIR}/reduced_encoding_val/best_val_NLL_perturb/{folder}/wav'\n",
    "    fad_score = frechet.score(bg, eval_dir, dtype=\"float32\")\n",
    "    \n",
    "    print(f\"{folder} FAD Score:\", np.round(fad_score, 3))\n",
    "    data[folder] = fad_score\n",
    "data\n"
   ]
  },
  {
   "cell_type": "code",
   "execution_count": 27,
   "metadata": {},
   "outputs": [
    {
     "data": {
      "text/html": [
       "<div>\n",
       "<style scoped>\n",
       "    .dataframe tbody tr th:only-of-type {\n",
       "        vertical-align: middle;\n",
       "    }\n",
       "\n",
       "    .dataframe tbody tr th {\n",
       "        vertical-align: top;\n",
       "    }\n",
       "\n",
       "    .dataframe thead th {\n",
       "        text-align: right;\n",
       "    }\n",
       "</style>\n",
       "<table border=\"1\" class=\"dataframe\">\n",
       "  <thead>\n",
       "    <tr style=\"text-align: right;\">\n",
       "      <th></th>\n",
       "      <th>FAD Score</th>\n",
       "      <th>Num Songs</th>\n",
       "      <th>Normalized FAD Score</th>\n",
       "    </tr>\n",
       "  </thead>\n",
       "  <tbody>\n",
       "    <tr>\n",
       "      <th>acoustic_bass</th>\n",
       "      <td>7.254939</td>\n",
       "      <td>117</td>\n",
       "      <td>0.062008</td>\n",
       "    </tr>\n",
       "    <tr>\n",
       "      <th>acoustic_grand_piano</th>\n",
       "      <td>6.265498</td>\n",
       "      <td>40</td>\n",
       "      <td>0.156637</td>\n",
       "    </tr>\n",
       "    <tr>\n",
       "      <th>acoustic_guitar_nylon</th>\n",
       "      <td>11.857761</td>\n",
       "      <td>129</td>\n",
       "      <td>0.091921</td>\n",
       "    </tr>\n",
       "    <tr>\n",
       "      <th>acoustic_piano</th>\n",
       "      <td>0.118128</td>\n",
       "      <td>180</td>\n",
       "      <td>0.000656</td>\n",
       "    </tr>\n",
       "    <tr>\n",
       "      <th>alto_sax</th>\n",
       "      <td>9.933525</td>\n",
       "      <td>24</td>\n",
       "      <td>0.413897</td>\n",
       "    </tr>\n",
       "    <tr>\n",
       "      <th>choir_aahs</th>\n",
       "      <td>8.975297</td>\n",
       "      <td>47</td>\n",
       "      <td>0.190964</td>\n",
       "    </tr>\n",
       "    <tr>\n",
       "      <th>electric_guitar_muted</th>\n",
       "      <td>6.594942</td>\n",
       "      <td>111</td>\n",
       "      <td>0.059414</td>\n",
       "    </tr>\n",
       "    <tr>\n",
       "      <th>ensemble</th>\n",
       "      <td>7.544126</td>\n",
       "      <td>174</td>\n",
       "      <td>0.043357</td>\n",
       "    </tr>\n",
       "    <tr>\n",
       "      <th>overdriven_guitar</th>\n",
       "      <td>6.391004</td>\n",
       "      <td>107</td>\n",
       "      <td>0.059729</td>\n",
       "    </tr>\n",
       "    <tr>\n",
       "      <th>piccolo</th>\n",
       "      <td>13.969644</td>\n",
       "      <td>40</td>\n",
       "      <td>0.349241</td>\n",
       "    </tr>\n",
       "    <tr>\n",
       "      <th>soprano_sax</th>\n",
       "      <td>14.888832</td>\n",
       "      <td>42</td>\n",
       "      <td>0.354496</td>\n",
       "    </tr>\n",
       "    <tr>\n",
       "      <th>string_cello</th>\n",
       "      <td>0.700053</td>\n",
       "      <td>64</td>\n",
       "      <td>0.010938</td>\n",
       "    </tr>\n",
       "    <tr>\n",
       "      <th>string_ensemble</th>\n",
       "      <td>2.740005</td>\n",
       "      <td>228</td>\n",
       "      <td>0.012018</td>\n",
       "    </tr>\n",
       "    <tr>\n",
       "      <th>string_violin</th>\n",
       "      <td>0.362303</td>\n",
       "      <td>94</td>\n",
       "      <td>0.003854</td>\n",
       "    </tr>\n",
       "    <tr>\n",
       "      <th>tango_accordion</th>\n",
       "      <td>8.762257</td>\n",
       "      <td>66</td>\n",
       "      <td>0.132761</td>\n",
       "    </tr>\n",
       "    <tr>\n",
       "      <th>timpani</th>\n",
       "      <td>8.154308</td>\n",
       "      <td>90</td>\n",
       "      <td>0.090603</td>\n",
       "    </tr>\n",
       "    <tr>\n",
       "      <th>trumpet</th>\n",
       "      <td>22.899588</td>\n",
       "      <td>24</td>\n",
       "      <td>0.954149</td>\n",
       "    </tr>\n",
       "    <tr>\n",
       "      <th>voice_oohs</th>\n",
       "      <td>6.408756</td>\n",
       "      <td>25</td>\n",
       "      <td>0.256350</td>\n",
       "    </tr>\n",
       "  </tbody>\n",
       "</table>\n",
       "</div>"
      ],
      "text/plain": [
       "                       FAD Score  Num Songs  Normalized FAD Score\n",
       "acoustic_bass           7.254939        117              0.062008\n",
       "acoustic_grand_piano    6.265498         40              0.156637\n",
       "acoustic_guitar_nylon  11.857761        129              0.091921\n",
       "acoustic_piano          0.118128        180              0.000656\n",
       "alto_sax                9.933525         24              0.413897\n",
       "choir_aahs              8.975297         47              0.190964\n",
       "electric_guitar_muted   6.594942        111              0.059414\n",
       "ensemble                7.544126        174              0.043357\n",
       "overdriven_guitar       6.391004        107              0.059729\n",
       "piccolo                13.969644         40              0.349241\n",
       "soprano_sax            14.888832         42              0.354496\n",
       "string_cello            0.700053         64              0.010938\n",
       "string_ensemble         2.740005        228              0.012018\n",
       "string_violin           0.362303         94              0.003854\n",
       "tango_accordion         8.762257         66              0.132761\n",
       "timpani                 8.154308         90              0.090603\n",
       "trumpet                22.899588         24              0.954149\n",
       "voice_oohs              6.408756         25              0.256350"
      ]
     },
     "execution_count": 27,
     "metadata": {},
     "output_type": "execute_result"
    }
   ],
   "source": [
    "# turn into dataframe\n",
    "import pandas as pd\n",
    "df = pd.DataFrame.from_dict(data, orient='index', columns=['FAD Score'])\n",
    "df_numsongs = pd.DataFrame.from_dict(num_songs, orient='index', columns=['Num Songs'])\n",
    "df = df.join(df_numsongs)\n",
    "df['Normalized FAD Score'] = df['FAD Score'] / (df['Num Songs'])\n",
    "df"
   ]
  },
  {
   "cell_type": "code",
   "execution_count": 28,
   "metadata": {},
   "outputs": [],
   "source": [
    "df.to_csv(f'{DATA_DIR}/inst_best_val_NLL_perturb_FAD_scores.csv')"
   ]
  },
  {
   "cell_type": "code",
   "execution_count": null,
   "metadata": {},
   "outputs": [],
   "source": []
  }
 ],
 "metadata": {
  "kernelspec": {
   "display_name": "commu-env",
   "language": "python",
   "name": "python3"
  },
  "language_info": {
   "codemirror_mode": {
    "name": "ipython",
    "version": 3
   },
   "file_extension": ".py",
   "mimetype": "text/x-python",
   "name": "python",
   "nbconvert_exporter": "python",
   "pygments_lexer": "ipython3",
   "version": "3.8.12"
  }
 },
 "nbformat": 4,
 "nbformat_minor": 2
}
