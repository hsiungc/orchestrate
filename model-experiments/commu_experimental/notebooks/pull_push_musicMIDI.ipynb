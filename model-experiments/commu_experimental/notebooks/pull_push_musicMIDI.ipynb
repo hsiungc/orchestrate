{
 "cells": [
  {
   "cell_type": "markdown",
   "metadata": {},
   "source": [
    "# Download and Prepare MusicMIDI for COMMU Processing"
   ]
  },
  {
   "cell_type": "code",
   "execution_count": 1,
   "metadata": {},
   "outputs": [
    {
     "name": "stdout",
     "output_type": "stream",
     "text": [
      "Requirement already satisfied: boto3 in /home/ktrinh/miniconda3/envs/commu-env/lib/python3.8/site-packages (1.28.69)\n",
      "Requirement already satisfied: botocore<1.32.0,>=1.31.69 in /home/ktrinh/miniconda3/envs/commu-env/lib/python3.8/site-packages (from boto3) (1.31.69)\n",
      "Requirement already satisfied: jmespath<2.0.0,>=0.7.1 in /home/ktrinh/miniconda3/envs/commu-env/lib/python3.8/site-packages (from boto3) (1.0.1)\n",
      "Requirement already satisfied: s3transfer<0.8.0,>=0.7.0 in /home/ktrinh/miniconda3/envs/commu-env/lib/python3.8/site-packages (from boto3) (0.7.0)\n",
      "Requirement already satisfied: python-dateutil<3.0.0,>=2.1 in /home/ktrinh/miniconda3/envs/commu-env/lib/python3.8/site-packages (from botocore<1.32.0,>=1.31.69->boto3) (2.8.2)\n",
      "Requirement already satisfied: urllib3<1.27,>=1.25.4 in /home/ktrinh/miniconda3/envs/commu-env/lib/python3.8/site-packages (from botocore<1.32.0,>=1.31.69->boto3) (1.26.18)\n",
      "Requirement already satisfied: six>=1.5 in /home/ktrinh/miniconda3/envs/commu-env/lib/python3.8/site-packages (from python-dateutil<3.0.0,>=2.1->botocore<1.32.0,>=1.31.69->boto3) (1.16.0)\n",
      "Requirement already satisfied: python-dotenv in /home/ktrinh/miniconda3/envs/commu-env/lib/python3.8/site-packages (1.0.0)\n"
     ]
    }
   ],
   "source": [
    "!pip install boto3\n",
    "!pip install python-dotenv"
   ]
  },
  {
   "cell_type": "code",
   "execution_count": 5,
   "metadata": {},
   "outputs": [
    {
     "name": "stderr",
     "output_type": "stream",
     "text": [
      "Python-dotenv could not parse statement starting at line 3\n"
     ]
    },
    {
     "data": {
      "text/plain": [
       "True"
      ]
     },
     "execution_count": 5,
     "metadata": {},
     "output_type": "execute_result"
    }
   ],
   "source": [
    "import os\n",
    "import boto3\n",
    "import joblib\n",
    "from ast import literal_eval\n",
    "\n",
    "\n",
    "from tqdm.notebook import tqdm\n",
    "\n",
    "import dotenv\n",
    "dotenv.load_dotenv()"
   ]
  },
  {
   "cell_type": "code",
   "execution_count": 6,
   "metadata": {},
   "outputs": [],
   "source": [
    "# declare some parameters\n",
    "## access secret keys\n",
    "access_key_id = os.environ.get(\"S3_KEY_ID\")\n",
    "secret_access_key = os.environ.get(\"S3_ACCESS_KEY\")\n",
    "\n",
    "\n",
    "# s3 bucket name\n",
    "bucket_name = \"orchestrate-bucket\"\n",
    "bucket_name = 'commu-model-checkpoint'\n",
    "\n",
    "# output dir\n",
    "output_dir = \"../dataset/processed_musicMIDI/\""
   ]
  },
  {
   "cell_type": "code",
   "execution_count": 7,
   "metadata": {},
   "outputs": [],
   "source": [
    "\n",
    "s3 = boto3.client(\"s3\",\n",
    "                  region_name=\"us-west-2\",\n",
    "                  aws_access_key_id=access_key_id,\n",
    "                  aws_secret_access_key=secret_access_key)"
   ]
  },
  {
   "cell_type": "code",
   "execution_count": 8,
   "metadata": {},
   "outputs": [],
   "source": [
    "# push data to s3\n",
    "def push_to_s3(local_file, bucket_name, s3_file):\n",
    "    s3.upload_file(local_file, bucket_name, s3_file)\n",
    "\n",
    "push_to_s3(\"../data/checkpoint_best_metaMIDI.pt\", bucket_name, \"checkpoint_best_metaMIDI.pt\")"
   ]
  },
  {
   "cell_type": "code",
   "execution_count": 11,
   "metadata": {},
   "outputs": [
    {
     "data": {
      "application/vnd.jupyter.widget-view+json": {
       "model_id": "06aec653c1da485eb113f5b2e104edd9",
       "version_major": 2,
       "version_minor": 0
      },
      "text/plain": [
       "0it [00:00, ?it/s]"
      ]
     },
     "metadata": {},
     "output_type": "display_data"
    }
   ],
   "source": [
    "# download data from s3\n",
    "paginator = s3.get_paginator('list_objects_v2')\n",
    "pages = paginator.paginate(Bucket=bucket_name, Prefix='metamidi_midi_files')\n",
    "\n",
    "for page in tqdm(pages):\n",
    "    files = page['Contents']\n",
    "    # download all midi files into local\n",
    "    for file in files:\n",
    "        file_key = file[\"Key\"]\n",
    "\n",
    "        # pass things that's not true midi files\n",
    "        if not file_key.endswith(\".mid\"):\n",
    "            continue\n",
    "\n",
    "        # get a file and download it to local\n",
    "        response = s3.get_object(Bucket=bucket_name, Key=file_key)\n",
    "        \n",
    "        # Read the file from S3\n",
    "        try:\n",
    "            response = s3.download_file(bucket_name, file_key, f'{output_dir}/{file_key}')\n",
    "            # print('File downloaded successfully.')\n",
    "        except Exception as e:\n",
    "            print('Error reading file from S3:', e)"
   ]
  },
  {
   "cell_type": "code",
   "execution_count": null,
   "metadata": {},
   "outputs": [],
   "source": [
    "# pull specific file from s3\n",
    "def pull_from_s3(bucket_name, s3_file, local_file):\n",
    "    s3.download_file(bucket_name, s3_file, local_file)"
   ]
  }
 ],
 "metadata": {
  "kernelspec": {
   "display_name": "commu-env",
   "language": "python",
   "name": "python3"
  },
  "language_info": {
   "codemirror_mode": {
    "name": "ipython",
    "version": 3
   },
   "file_extension": ".py",
   "mimetype": "text/x-python",
   "name": "python",
   "nbconvert_exporter": "python",
   "pygments_lexer": "ipython3",
   "version": "3.8.12"
  }
 },
 "nbformat": 4,
 "nbformat_minor": 2
}
