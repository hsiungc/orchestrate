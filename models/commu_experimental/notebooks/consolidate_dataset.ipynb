{
 "cells": [
  {
   "cell_type": "markdown",
   "metadata": {},
   "source": [
    "# Module to Cleanup Current MusicMIDI Metadata"
   ]
  },
  {
   "cell_type": "code",
   "execution_count": 1,
   "metadata": {},
   "outputs": [],
   "source": [
    "import os\n",
    "import boto3\n",
    "import joblib\n",
    "import mido\n",
    "import miditoolkit\n",
    "import pandas as pd\n",
    "import numpy as np\n",
    "import matplotlib.pyplot as plt\n",
    "import seaborn as sns\n",
    "from ast import literal_eval\n",
    "from pathlib import Path\n",
    "from tqdm.notebook import tqdm\n",
    "\n",
    "import dotenv\n",
    "dotenv.load_dotenv()\n",
    "\n",
    "sns.set()"
   ]
  },
  {
   "cell_type": "code",
   "execution_count": 2,
   "metadata": {},
   "outputs": [],
   "source": [
    "# set some parameter\n",
    "DATA_DIR = '../dataset'"
   ]
  },
  {
   "cell_type": "code",
   "execution_count": 3,
   "metadata": {},
   "outputs": [
    {
     "data": {
      "text/html": [
       "<div>\n",
       "<style scoped>\n",
       "    .dataframe tbody tr th:only-of-type {\n",
       "        vertical-align: middle;\n",
       "    }\n",
       "\n",
       "    .dataframe tbody tr th {\n",
       "        vertical-align: top;\n",
       "    }\n",
       "\n",
       "    .dataframe thead th {\n",
       "        text-align: right;\n",
       "    }\n",
       "</style>\n",
       "<table border=\"1\" class=\"dataframe\">\n",
       "  <thead>\n",
       "    <tr style=\"text-align: right;\">\n",
       "      <th></th>\n",
       "      <th>audio_key</th>\n",
       "      <th>pitch_range</th>\n",
       "      <th>num_measures</th>\n",
       "      <th>bpm</th>\n",
       "      <th>genre</th>\n",
       "      <th>track_roll</th>\n",
       "      <th>inst</th>\n",
       "      <th>sample_rhythm</th>\n",
       "      <th>time_signature</th>\n",
       "      <th>min_velocity</th>\n",
       "      <th>max_velocity</th>\n",
       "      <th>split_data</th>\n",
       "      <th>id</th>\n",
       "      <th>chord_progressions</th>\n",
       "      <th>track_role</th>\n",
       "      <th>inst_mapping</th>\n",
       "      <th>updated_inst</th>\n",
       "      <th>updated_genre</th>\n",
       "      <th>genre_mapping</th>\n",
       "    </tr>\n",
       "  </thead>\n",
       "  <tbody>\n",
       "    <tr>\n",
       "      <th>0</th>\n",
       "      <td>cmajor</td>\n",
       "      <td>unknown</td>\n",
       "      <td>10</td>\n",
       "      <td>192</td>\n",
       "      <td>electronic</td>\n",
       "      <td>unknown</td>\n",
       "      <td>dulcimer</td>\n",
       "      <td>unknown</td>\n",
       "      <td>2/4</td>\n",
       "      <td>64</td>\n",
       "      <td>87</td>\n",
       "      <td>train</td>\n",
       "      <td>0004806f96307e317d116040af5b7861-11</td>\n",
       "      <td>[[Am, Am, C, C, F, F, Am, Am, B, B, G, G, B, B...</td>\n",
       "      <td>unknown</td>\n",
       "      <td>3</td>\n",
       "      <td>guitar</td>\n",
       "      <td>electronic</td>\n",
       "      <td>3</td>\n",
       "    </tr>\n",
       "    <tr>\n",
       "      <th>1</th>\n",
       "      <td>fmajor</td>\n",
       "      <td>unknown</td>\n",
       "      <td>7</td>\n",
       "      <td>112</td>\n",
       "      <td>electronic</td>\n",
       "      <td>unknown</td>\n",
       "      <td>brass_section</td>\n",
       "      <td>unknown</td>\n",
       "      <td>2/4</td>\n",
       "      <td>127</td>\n",
       "      <td>127</td>\n",
       "      <td>train</td>\n",
       "      <td>0004806f96307e317d116040af5b7861-12</td>\n",
       "      <td>[[F, F, F, F, A, A, A, A, C, C, G, G, F, F, F,...</td>\n",
       "      <td>unknown</td>\n",
       "      <td>5</td>\n",
       "      <td>brass</td>\n",
       "      <td>electronic</td>\n",
       "      <td>3</td>\n",
       "    </tr>\n",
       "    <tr>\n",
       "      <th>2</th>\n",
       "      <td>fmajor</td>\n",
       "      <td>unknown</td>\n",
       "      <td>12</td>\n",
       "      <td>163</td>\n",
       "      <td>electronic</td>\n",
       "      <td>unknown</td>\n",
       "      <td>percussive_organ</td>\n",
       "      <td>unknown</td>\n",
       "      <td>2/4</td>\n",
       "      <td>31</td>\n",
       "      <td>85</td>\n",
       "      <td>train</td>\n",
       "      <td>0004806f96307e317d116040af5b7861-13</td>\n",
       "      <td>[[Dm, Dm, Dm, Dm, F, F, F, F, B, B, G, G, Dm, ...</td>\n",
       "      <td>unknown</td>\n",
       "      <td>0</td>\n",
       "      <td>keyboard</td>\n",
       "      <td>electronic</td>\n",
       "      <td>3</td>\n",
       "    </tr>\n",
       "    <tr>\n",
       "      <th>3</th>\n",
       "      <td>aminor</td>\n",
       "      <td>unknown</td>\n",
       "      <td>11</td>\n",
       "      <td>179</td>\n",
       "      <td>electronic</td>\n",
       "      <td>unknown</td>\n",
       "      <td>lead_square</td>\n",
       "      <td>unknown</td>\n",
       "      <td>2/4</td>\n",
       "      <td>27</td>\n",
       "      <td>113</td>\n",
       "      <td>train</td>\n",
       "      <td>0004806f96307e317d116040af5b7861-3</td>\n",
       "      <td>[[C, C, G, G, A, A, C, C, A, A, G, G, G, G, C,...</td>\n",
       "      <td>unknown</td>\n",
       "      <td>1</td>\n",
       "      <td>accordian</td>\n",
       "      <td>electronic</td>\n",
       "      <td>3</td>\n",
       "    </tr>\n",
       "    <tr>\n",
       "      <th>4</th>\n",
       "      <td>dminor</td>\n",
       "      <td>unknown</td>\n",
       "      <td>7</td>\n",
       "      <td>112</td>\n",
       "      <td>electronic</td>\n",
       "      <td>unknown</td>\n",
       "      <td>lead_square</td>\n",
       "      <td>unknown</td>\n",
       "      <td>2/4</td>\n",
       "      <td>126</td>\n",
       "      <td>126</td>\n",
       "      <td>train</td>\n",
       "      <td>0004806f96307e317d116040af5b7861-5</td>\n",
       "      <td>[[D, D, D, D, F, F, A, A, A, A, G, G, D, D, D,...</td>\n",
       "      <td>unknown</td>\n",
       "      <td>1</td>\n",
       "      <td>accordian</td>\n",
       "      <td>electronic</td>\n",
       "      <td>3</td>\n",
       "    </tr>\n",
       "  </tbody>\n",
       "</table>\n",
       "</div>"
      ],
      "text/plain": [
       "  audio_key pitch_range  num_measures  bpm       genre track_roll  \\\n",
       "0    cmajor     unknown            10  192  electronic    unknown   \n",
       "1    fmajor     unknown             7  112  electronic    unknown   \n",
       "2    fmajor     unknown            12  163  electronic    unknown   \n",
       "3    aminor     unknown            11  179  electronic    unknown   \n",
       "4    dminor     unknown             7  112  electronic    unknown   \n",
       "\n",
       "               inst sample_rhythm time_signature  min_velocity  max_velocity  \\\n",
       "0          dulcimer       unknown            2/4            64            87   \n",
       "1     brass_section       unknown            2/4           127           127   \n",
       "2  percussive_organ       unknown            2/4            31            85   \n",
       "3       lead_square       unknown            2/4            27           113   \n",
       "4       lead_square       unknown            2/4           126           126   \n",
       "\n",
       "  split_data                                   id  \\\n",
       "0      train  0004806f96307e317d116040af5b7861-11   \n",
       "1      train  0004806f96307e317d116040af5b7861-12   \n",
       "2      train  0004806f96307e317d116040af5b7861-13   \n",
       "3      train   0004806f96307e317d116040af5b7861-3   \n",
       "4      train   0004806f96307e317d116040af5b7861-5   \n",
       "\n",
       "                                  chord_progressions track_role  inst_mapping  \\\n",
       "0  [[Am, Am, C, C, F, F, Am, Am, B, B, G, G, B, B...    unknown             3   \n",
       "1  [[F, F, F, F, A, A, A, A, C, C, G, G, F, F, F,...    unknown             5   \n",
       "2  [[Dm, Dm, Dm, Dm, F, F, F, F, B, B, G, G, Dm, ...    unknown             0   \n",
       "3  [[C, C, G, G, A, A, C, C, A, A, G, G, G, G, C,...    unknown             1   \n",
       "4  [[D, D, D, D, F, F, A, A, A, A, G, G, D, D, D,...    unknown             1   \n",
       "\n",
       "  updated_inst updated_genre  genre_mapping  \n",
       "0       guitar    electronic              3  \n",
       "1        brass    electronic              3  \n",
       "2     keyboard    electronic              3  \n",
       "3    accordian    electronic              3  \n",
       "4    accordian    electronic              3  "
      ]
     },
     "execution_count": 3,
     "metadata": {},
     "output_type": "execute_result"
    }
   ],
   "source": [
    "# clean some columns\n",
    "# remove mid suffix\n",
    "# list the chord progression\n",
    "musicMIDI_meta = pd.read_csv(f\"{DATA_DIR}/midi_metadata_file_cleaned.csv\", \n",
    "                             index_col=[0], \n",
    "                             converters={\"chord_progressions\": literal_eval}).reset_index()\n",
    "musicMIDI_meta.head()"
   ]
  },
  {
   "cell_type": "code",
   "execution_count": 4,
   "metadata": {},
   "outputs": [
    {
     "data": {
      "text/plain": [
       "(neg_min_velocity\n",
       " False    61237\n",
       " Name: count, dtype: int64,\n",
       " neg_max_velocity\n",
       " False    61237\n",
       " Name: count, dtype: int64)"
      ]
     },
     "execution_count": 4,
     "metadata": {},
     "output_type": "execute_result"
    }
   ],
   "source": [
    "# determine when minor velocity is negative\n",
    "musicMIDI_meta['neg_min_velocity'] = musicMIDI_meta.apply(lambda x: x['min_velocity'] < 0, axis=1)\n",
    "\n",
    "# determine when max velocity is negative\n",
    "musicMIDI_meta['neg_max_velocity'] = musicMIDI_meta.apply(lambda x: x['max_velocity'] < 0, axis=1)\n",
    "musicMIDI_meta['neg_min_velocity'].value_counts(), musicMIDI_meta['neg_max_velocity'].value_counts()"
   ]
  },
  {
   "cell_type": "code",
   "execution_count": 5,
   "metadata": {},
   "outputs": [
    {
     "data": {
      "text/plain": [
       "min_max_velocity_same\n",
       "False    40239\n",
       "True     20998\n",
       "Name: count, dtype: int64"
      ]
     },
     "execution_count": 5,
     "metadata": {},
     "output_type": "execute_result"
    }
   ],
   "source": [
    "# determine instances where the min/max velocidy is the same\n",
    "musicMIDI_meta['min_max_velocity_same'] = musicMIDI_meta.apply(lambda x: x['min_velocity'] == x['max_velocity'], axis=1)\n",
    "musicMIDI_meta['min_max_velocity_same'].value_counts()"
   ]
  },
  {
   "cell_type": "code",
   "execution_count": 6,
   "metadata": {},
   "outputs": [
    {
     "data": {
      "text/plain": [
       "min_velocity_greater_than_max_velocity\n",
       "False    61237\n",
       "Name: count, dtype: int64"
      ]
     },
     "execution_count": 6,
     "metadata": {},
     "output_type": "execute_result"
    }
   ],
   "source": [
    "# determine instances when min velocity is > max velocity\n",
    "musicMIDI_meta['min_velocity_greater_than_max_velocity'] = musicMIDI_meta.apply(lambda x: x['min_velocity'] > x['max_velocity'], axis=1)\n",
    "musicMIDI_meta['min_velocity_greater_than_max_velocity'].value_counts()"
   ]
  },
  {
   "cell_type": "code",
   "execution_count": 10,
   "metadata": {},
   "outputs": [],
   "source": [
    "def extract_min_max_velocity(midi_file_path):\n",
    "    \"\"\"\n",
    "        Function to extract the minimum and maximum velocity from a given MIDI file\n",
    "        Input: MIDI file path\n",
    "        Output: Minimum velocity, Maximum velocity\n",
    "    \"\"\"\n",
    "    try:\n",
    "        mid = mido.MidiFile(midi_file_path)\n",
    "\n",
    "        velocity_data = []\n",
    "\n",
    "        for track in mid.tracks:\n",
    "            for msg in track:\n",
    "                if msg.type == 'note_on':\n",
    "                    velocity = msg.velocity\n",
    "                    velocity_data.append(velocity)\n",
    "\n",
    "\n",
    "        velocity_data = sorted(list(set(velocity_data)))\n",
    "        velocity_data = velocity_data[1:]\n",
    "        min_velocity = velocity_data[0]\n",
    "        max_velocity = velocity_data[-1]\n",
    "\n",
    "    except Exception as e:\n",
    "        print(f\"Error: {e}\")\n",
    "        return None, None\n",
    "\n",
    "    return min_velocity, max_velocity\n"
   ]
  },
  {
   "cell_type": "code",
   "execution_count": 11,
   "metadata": {},
   "outputs": [
    {
     "data": {
      "application/vnd.jupyter.widget-view+json": {
       "model_id": "bebb05f012ee488b9f140a534933fd48",
       "version_major": 2,
       "version_minor": 0
      },
      "text/plain": [
       "0it [00:00, ?it/s]"
      ]
     },
     "metadata": {},
     "output_type": "display_data"
    },
    {
     "data": {
      "text/plain": [
       "[]"
      ]
     },
     "execution_count": 11,
     "metadata": {},
     "output_type": "execute_result"
    }
   ],
   "source": [
    "# for MIDI files that have same min/max velocity, re-extract the min/max velocity \n",
    "# check if the min/max velocity is the same\n",
    "# if it is, ignore the file\n",
    "# if it is not, update the min/max velocity record\n",
    "temp_data = []\n",
    "for i, row in tqdm(musicMIDI_meta.iterrows()):\n",
    "    if row['min_max_velocity_same']:\n",
    "        midi_file_path = f'{DATA_DIR}/processed_musicMIDI/raw/{row[\"id\"]}.mid'\n",
    "        min_velocity, max_velocity = extract_min_max_velocity(midi_file_path)\n",
    "        \n",
    "        if min_velocity != max_velocity:\n",
    "            temp_data.append([row['id'], min_velocity, max_velocity])\n",
    "\n",
    "\n",
    "temp_data[:5]"
   ]
  },
  {
   "cell_type": "code",
   "execution_count": null,
   "metadata": {},
   "outputs": [],
   "source": []
  }
 ],
 "metadata": {
  "kernelspec": {
   "display_name": "commu_train_env",
   "language": "python",
   "name": "python3"
  },
  "language_info": {
   "codemirror_mode": {
    "name": "ipython",
    "version": 3
   },
   "file_extension": ".py",
   "mimetype": "text/x-python",
   "name": "python",
   "nbconvert_exporter": "python",
   "pygments_lexer": "ipython3",
   "version": "3.8.12"
  }
 },
 "nbformat": 4,
 "nbformat_minor": 2
}
