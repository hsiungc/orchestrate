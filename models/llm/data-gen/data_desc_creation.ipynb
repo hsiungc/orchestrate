{
 "cells": [
  {
   "cell_type": "markdown",
   "id": "8b0687a6-dc3b-4151-9052-58d5b3e6b98a",
   "metadata": {},
   "source": [
    "# Dataset Prompt Engineering & Description Creation"
   ]
  },
  {
   "cell_type": "markdown",
   "id": "cbb5ffe2-5ecb-46da-840a-2ce213c8de99",
   "metadata": {},
   "source": [
    "## Setup"
   ]
  },
  {
   "cell_type": "code",
   "execution_count": 156,
   "id": "a22c27df-ebe6-43a7-b06e-9d20ea2cbd62",
   "metadata": {},
   "outputs": [
    {
     "name": "stdout",
     "output_type": "stream",
     "text": [
      "Requirement already satisfied: openai in c:\\users\\ktrin\\miniconda3\\envs\\nlp-env-v2\\lib\\site-packages (0.28.1)\n",
      "Requirement already satisfied: requests>=2.20 in c:\\users\\ktrin\\miniconda3\\envs\\nlp-env-v2\\lib\\site-packages (from openai) (2.31.0)\n",
      "Requirement already satisfied: tqdm in c:\\users\\ktrin\\miniconda3\\envs\\nlp-env-v2\\lib\\site-packages (from openai) (4.66.1)\n",
      "Requirement already satisfied: aiohttp in c:\\users\\ktrin\\miniconda3\\envs\\nlp-env-v2\\lib\\site-packages (from openai) (3.8.6)\n",
      "Requirement already satisfied: charset-normalizer<4,>=2 in c:\\users\\ktrin\\miniconda3\\envs\\nlp-env-v2\\lib\\site-packages (from requests>=2.20->openai) (3.3.0)\n",
      "Requirement already satisfied: idna<4,>=2.5 in c:\\users\\ktrin\\miniconda3\\envs\\nlp-env-v2\\lib\\site-packages (from requests>=2.20->openai) (3.4)\n",
      "Requirement already satisfied: urllib3<3,>=1.21.1 in c:\\users\\ktrin\\miniconda3\\envs\\nlp-env-v2\\lib\\site-packages (from requests>=2.20->openai) (1.26.18)\n",
      "Requirement already satisfied: certifi>=2017.4.17 in c:\\users\\ktrin\\miniconda3\\envs\\nlp-env-v2\\lib\\site-packages (from requests>=2.20->openai) (2023.7.22)\n",
      "Requirement already satisfied: attrs>=17.3.0 in c:\\users\\ktrin\\miniconda3\\envs\\nlp-env-v2\\lib\\site-packages (from aiohttp->openai) (23.1.0)\n",
      "Requirement already satisfied: multidict<7.0,>=4.5 in c:\\users\\ktrin\\miniconda3\\envs\\nlp-env-v2\\lib\\site-packages (from aiohttp->openai) (6.0.4)\n",
      "Requirement already satisfied: async-timeout<5.0,>=4.0.0a3 in c:\\users\\ktrin\\miniconda3\\envs\\nlp-env-v2\\lib\\site-packages (from aiohttp->openai) (4.0.3)\n",
      "Requirement already satisfied: yarl<2.0,>=1.0 in c:\\users\\ktrin\\miniconda3\\envs\\nlp-env-v2\\lib\\site-packages (from aiohttp->openai) (1.9.2)\n",
      "Requirement already satisfied: frozenlist>=1.1.1 in c:\\users\\ktrin\\miniconda3\\envs\\nlp-env-v2\\lib\\site-packages (from aiohttp->openai) (1.4.0)\n",
      "Requirement already satisfied: aiosignal>=1.1.2 in c:\\users\\ktrin\\miniconda3\\envs\\nlp-env-v2\\lib\\site-packages (from aiohttp->openai) (1.3.1)\n",
      "Requirement already satisfied: colorama in c:\\users\\ktrin\\miniconda3\\envs\\nlp-env-v2\\lib\\site-packages (from tqdm->openai) (0.4.6)\n",
      "Requirement already satisfied: retry in c:\\users\\ktrin\\miniconda3\\envs\\nlp-env-v2\\lib\\site-packages (0.9.2)\n",
      "Requirement already satisfied: decorator>=3.4.2 in c:\\users\\ktrin\\miniconda3\\envs\\nlp-env-v2\\lib\\site-packages (from retry) (5.1.1)\n",
      "Requirement already satisfied: py<2.0.0,>=1.4.26 in c:\\users\\ktrin\\miniconda3\\envs\\nlp-env-v2\\lib\\site-packages (from retry) (1.11.0)\n"
     ]
    }
   ],
   "source": [
    "!pip install openai\n",
    "!pip install retry"
   ]
  },
  {
   "cell_type": "code",
   "execution_count": 157,
   "id": "d32cd8cf-2b00-42c0-b00d-dc7df185e716",
   "metadata": {},
   "outputs": [],
   "source": [
    "import os\n",
    "import time\n",
    "from joblib import Parallel, delayed\n",
    "from tqdm.notebook import tqdm\n",
    "from retry import retry\n",
    "\n",
    "import pandas as pd\n",
    "\n",
    "import openai"
   ]
  },
  {
   "cell_type": "code",
   "execution_count": null,
   "id": "405b92ea-8b9f-4c11-a7f7-24d00b4f0631",
   "metadata": {},
   "outputs": [],
   "source": [
    "openai_key = os.environ.get(\"OPENAI_API_KEY\")\n",
    "\n",
    "openai.api_key = openai_key"
   ]
  },
  {
   "cell_type": "markdown",
   "id": "6d686cfd-bf7f-4cf5-8732-dad7ac70e37d",
   "metadata": {},
   "source": [
    "## Dataset Processing"
   ]
  },
  {
   "cell_type": "code",
   "execution_count": 159,
   "id": "2b0ced7c-6bb3-4b9f-a1a6-701579d2611e",
   "metadata": {},
   "outputs": [],
   "source": [
    "input_path = './data/metadata.csv' # UPDATE\n",
    "output_path = './data/metadata_prompts.csv' # UPDATE\n",
    "\n",
    "df = pd.read_csv(input_path)"
   ]
  },
  {
   "cell_type": "markdown",
   "id": "64c110ec-c20d-4062-afab-a73a27cd3b9f",
   "metadata": {},
   "source": [
    "#### Dataset Sanitization"
   ]
  },
  {
   "cell_type": "code",
   "execution_count": 160,
   "id": "7535d3af-4d6c-4a06-8769-a2a42bcdd432",
   "metadata": {},
   "outputs": [],
   "source": [
    "def add_space(text):\n",
    "    note = text[0]\n",
    "    key = text[-5:]\n",
    "    return note + ' ' + key\n",
    "\n",
    "def genre_split(text):\n",
    "    if text == 'newage':\n",
    "        text = 'new age'\n",
    "    if text == 'posthardcore':\n",
    "        text = 'post hardcore'\n",
    "    if text == 'easylistening':\n",
    "        text = 'easy listening'\n",
    "    return text"
   ]
  },
  {
   "cell_type": "code",
   "execution_count": 161,
   "id": "bdb2b086-0660-4bc8-b2f1-27b2dca98d7e",
   "metadata": {},
   "outputs": [],
   "source": [
    "# Data grooming\n",
    "df['audio_key'] = df['audio_key'].apply(add_space)\n",
    "df['pitch_range'] = df['pitch_range'].str.replace('_', ' ')\n",
    "df['genre'] = df['genre'].apply(genre_split).str.replace('__', ' ').replace('_',' ')\n",
    "df['inst'] = df['inst'].str.replace('_', ' ').replace('-', ' ')\n",
    "df['track_role'] = df['track_role'].str.replace('_', ' ')"
   ]
  },
  {
   "cell_type": "code",
   "execution_count": 162,
   "id": "64b8c06f-fc13-436b-8c8e-c17abf0b3d06",
   "metadata": {},
   "outputs": [
    {
     "data": {
      "text/html": [
       "<div>\n",
       "<style scoped>\n",
       "    .dataframe tbody tr th:only-of-type {\n",
       "        vertical-align: middle;\n",
       "    }\n",
       "\n",
       "    .dataframe tbody tr th {\n",
       "        vertical-align: top;\n",
       "    }\n",
       "\n",
       "    .dataframe thead th {\n",
       "        text-align: right;\n",
       "    }\n",
       "</style>\n",
       "<table border=\"1\" class=\"dataframe\">\n",
       "  <thead>\n",
       "    <tr style=\"text-align: right;\">\n",
       "      <th></th>\n",
       "      <th>audio_key</th>\n",
       "      <th>chord_progressions</th>\n",
       "      <th>pitch_range</th>\n",
       "      <th>num_measures</th>\n",
       "      <th>bpm</th>\n",
       "      <th>genre</th>\n",
       "      <th>track_role</th>\n",
       "      <th>inst</th>\n",
       "      <th>sample_rhythm</th>\n",
       "      <th>time_signature</th>\n",
       "      <th>min_velocity</th>\n",
       "      <th>max_velocity</th>\n",
       "      <th>split_data</th>\n",
       "      <th>id</th>\n",
       "      <th>track_roll</th>\n",
       "      <th>unique_chord_n_note</th>\n",
       "    </tr>\n",
       "  </thead>\n",
       "  <tbody>\n",
       "    <tr>\n",
       "      <th>0</th>\n",
       "      <td>e minor</td>\n",
       "      <td>[['A', 'A', 'A', 'A', 'A', 'A', 'A', 'A', 'G',...</td>\n",
       "      <td>unknown</td>\n",
       "      <td>6</td>\n",
       "      <td>231</td>\n",
       "      <td>rock</td>\n",
       "      <td>unknown</td>\n",
       "      <td>clarinet</td>\n",
       "      <td>unknown</td>\n",
       "      <td>4/4</td>\n",
       "      <td>66</td>\n",
       "      <td>100</td>\n",
       "      <td>unknown</td>\n",
       "      <td>c527f2542d8533c1a4c95b2217d9918f_15</td>\n",
       "      <td>unknown</td>\n",
       "      <td>['E', 'Em', 'G', 'A']</td>\n",
       "    </tr>\n",
       "    <tr>\n",
       "      <th>1</th>\n",
       "      <td>a minor</td>\n",
       "      <td>[['C', 'C', 'C', 'C', 'C', 'C', 'C', 'C', 'A',...</td>\n",
       "      <td>unknown</td>\n",
       "      <td>9</td>\n",
       "      <td>222</td>\n",
       "      <td>rock</td>\n",
       "      <td>unknown</td>\n",
       "      <td>recorder</td>\n",
       "      <td>unknown</td>\n",
       "      <td>4/4</td>\n",
       "      <td>66</td>\n",
       "      <td>100</td>\n",
       "      <td>unknown</td>\n",
       "      <td>c527f2542d8533c1a4c95b2217d9918f_16</td>\n",
       "      <td>unknown</td>\n",
       "      <td>['B', 'E', 'C', 'A']</td>\n",
       "    </tr>\n",
       "    <tr>\n",
       "      <th>2</th>\n",
       "      <td>d minor</td>\n",
       "      <td>[['A', 'A', 'A', 'A', 'G', 'G', 'G', 'G', 'A',...</td>\n",
       "      <td>unknown</td>\n",
       "      <td>9</td>\n",
       "      <td>235</td>\n",
       "      <td>rock</td>\n",
       "      <td>unknown</td>\n",
       "      <td>electric bass pick</td>\n",
       "      <td>unknown</td>\n",
       "      <td>4/4</td>\n",
       "      <td>100</td>\n",
       "      <td>127</td>\n",
       "      <td>unknown</td>\n",
       "      <td>c527f2542d8533c1a4c95b2217d9918f_2</td>\n",
       "      <td>unknown</td>\n",
       "      <td>['E', 'C', 'G', 'A']</td>\n",
       "    </tr>\n",
       "    <tr>\n",
       "      <th>3</th>\n",
       "      <td>a minor</td>\n",
       "      <td>[['Am', 'Am', 'Am', 'Am', 'Am', 'Am', 'Am', 'A...</td>\n",
       "      <td>unknown</td>\n",
       "      <td>10</td>\n",
       "      <td>213</td>\n",
       "      <td>rock</td>\n",
       "      <td>unknown</td>\n",
       "      <td>acoustic guitar nylon</td>\n",
       "      <td>unknown</td>\n",
       "      <td>4/4</td>\n",
       "      <td>23</td>\n",
       "      <td>74</td>\n",
       "      <td>unknown</td>\n",
       "      <td>c527f2542d8533c1a4c95b2217d9918f_3</td>\n",
       "      <td>unknown</td>\n",
       "      <td>['D', 'G', 'F', 'E', 'Am']</td>\n",
       "    </tr>\n",
       "    <tr>\n",
       "      <th>4</th>\n",
       "      <td>a minor</td>\n",
       "      <td>[['B', 'B', 'B', 'B', 'B', 'B', 'B', 'B', 'B',...</td>\n",
       "      <td>unknown</td>\n",
       "      <td>10</td>\n",
       "      <td>211</td>\n",
       "      <td>rock</td>\n",
       "      <td>unknown</td>\n",
       "      <td>electric guitar muted</td>\n",
       "      <td>unknown</td>\n",
       "      <td>4/4</td>\n",
       "      <td>55</td>\n",
       "      <td>127</td>\n",
       "      <td>unknown</td>\n",
       "      <td>c527f2542d8533c1a4c95b2217d9918f_4</td>\n",
       "      <td>unknown</td>\n",
       "      <td>['B', 'D', 'G', 'F', 'Em']</td>\n",
       "    </tr>\n",
       "  </tbody>\n",
       "</table>\n",
       "</div>"
      ],
      "text/plain": [
       "  audio_key                                 chord_progressions pitch_range  \\\n",
       "0   e minor  [['A', 'A', 'A', 'A', 'A', 'A', 'A', 'A', 'G',...     unknown   \n",
       "1   a minor  [['C', 'C', 'C', 'C', 'C', 'C', 'C', 'C', 'A',...     unknown   \n",
       "2   d minor  [['A', 'A', 'A', 'A', 'G', 'G', 'G', 'G', 'A',...     unknown   \n",
       "3   a minor  [['Am', 'Am', 'Am', 'Am', 'Am', 'Am', 'Am', 'A...     unknown   \n",
       "4   a minor  [['B', 'B', 'B', 'B', 'B', 'B', 'B', 'B', 'B',...     unknown   \n",
       "\n",
       "   num_measures  bpm genre track_role                   inst sample_rhythm  \\\n",
       "0             6  231  rock    unknown               clarinet       unknown   \n",
       "1             9  222  rock    unknown               recorder       unknown   \n",
       "2             9  235  rock    unknown     electric bass pick       unknown   \n",
       "3            10  213  rock    unknown  acoustic guitar nylon       unknown   \n",
       "4            10  211  rock    unknown  electric guitar muted       unknown   \n",
       "\n",
       "  time_signature  min_velocity  max_velocity split_data  \\\n",
       "0            4/4            66           100    unknown   \n",
       "1            4/4            66           100    unknown   \n",
       "2            4/4           100           127    unknown   \n",
       "3            4/4            23            74    unknown   \n",
       "4            4/4            55           127    unknown   \n",
       "\n",
       "                                    id track_roll         unique_chord_n_note  \n",
       "0  c527f2542d8533c1a4c95b2217d9918f_15    unknown       ['E', 'Em', 'G', 'A']  \n",
       "1  c527f2542d8533c1a4c95b2217d9918f_16    unknown        ['B', 'E', 'C', 'A']  \n",
       "2   c527f2542d8533c1a4c95b2217d9918f_2    unknown        ['E', 'C', 'G', 'A']  \n",
       "3   c527f2542d8533c1a4c95b2217d9918f_3    unknown  ['D', 'G', 'F', 'E', 'Am']  \n",
       "4   c527f2542d8533c1a4c95b2217d9918f_4    unknown  ['B', 'D', 'G', 'F', 'Em']  "
      ]
     },
     "execution_count": 162,
     "metadata": {},
     "output_type": "execute_result"
    }
   ],
   "source": [
    "df.head()"
   ]
  },
  {
   "cell_type": "code",
   "execution_count": 163,
   "id": "9ebefe59",
   "metadata": {},
   "outputs": [
    {
     "data": {
      "text/plain": [
       "7"
      ]
     },
     "execution_count": 163,
     "metadata": {},
     "output_type": "execute_result"
    }
   ],
   "source": [
    "# Split main dataset by number of rows (rate limit)\n",
    "\n",
    "num_rows = 2297 # Update to max rate limit\n",
    "len_df = len(df)\n",
    "\n",
    "df_list = []\n",
    "\n",
    "for i in range(0, len_df, num_rows):\n",
    "    df_append = df[i:i + num_rows]\n",
    "    df_list.append(df_append)\n",
    "\n",
    "len(df_list)"
   ]
  },
  {
   "cell_type": "markdown",
   "id": "26a29a88-0b50-4a2c-bca1-be7168025252",
   "metadata": {},
   "source": [
    "## Prompt Engineering"
   ]
  },
  {
   "cell_type": "markdown",
   "id": "85b4df5f-001b-414d-b8a4-d7416f8629e1",
   "metadata": {},
   "source": [
    "Prompt engineering performed directly in ChatGPT\n",
    "\n",
    "**4K context:**\n",
    "<br>\n",
    "    - Input: $0.0015 per 1K tokens <br>\n",
    "    - Output: $0.002 per 1K tokens\n",
    "<br>\n",
    "\n",
    "~$0.000325 per query * ~15K rows = $4.88"
   ]
  },
  {
   "cell_type": "markdown",
   "id": "695dfc5a-429c-4531-8194-8ad497196069",
   "metadata": {},
   "source": [
    "#### **Prompts:**"
   ]
  },
  {
   "cell_type": "markdown",
   "id": "b2b2d51b-1368-474e-bfec-d4c3168e558c",
   "metadata": {},
   "source": [
    "**PROMPT 1:** \n",
    "\n",
    "Pretend you are a musician that wants to have fun jamming to music produced by a set of instructions. Write these instructions in 25 to 50 words, where the output music incorporates the following features: a minor key, mid pitch range, 8 measures, 120 beats/minute, cinematic genre, unknown track role,  bass instrument, standard sample rhythm, 4/4 time signature, minimum velocity of 101, maximum velocity of 102, and unique chords of ['D', 'Dm', 'G', 'C', 'Am']. The unique chords feature represents a list of unique chords. If a feature includes the word 'unknown', then eliminate this feature from your response."
   ]
  },
  {
   "cell_type": "markdown",
   "id": "83d06cc3",
   "metadata": {},
   "source": [
    "**PROMPT 2:**\n",
    "\n",
    "Give a realistic but natural instruction between 25 to 50 words in the point-of-view of a hobbyist musician doing a jamming or accompaniment session, which includes the following features: a minor key, mid pitch range, 8 measures, 120 beats/minute, cinematic genre, unknown track role,  bass instrument, standard sample rhythm, 4/4 time signature, minimum velocity of 101, maximum velocity of 102, and unique chords of ['D', 'Dm', 'G', 'C', 'Am']. The unique chords feature represents a list of unique chords. Your response should include music terms. If a feature includes the word 'unknown', then eliminate this feature from your response."
   ]
  },
  {
   "cell_type": "markdown",
   "id": "897fc521",
   "metadata": {},
   "source": [
    "**PROMPT 3:**\n",
    "\n",
    "You are a professional musician looking to sharpen musical skills through an accompaniment session. Write a set of instructions between 25 to 50 words long that will generate music based on the following features: a minor key, mid pitch range, 8 measures, 120 beats/minute, cinematic genre, unknown track role,  bass instrument, standard sample rhythm, 4/4 time signature, minimum velocity of 101, maximum velocity of 102, and unique chords of ['D', 'Dm', 'G', 'C', 'Am']. The unique chords feature represents a list of unique chords. Your response should include music terms. If a feature includes the word 'unknown', then eliminate this feature from your response."
   ]
  },
  {
   "cell_type": "markdown",
   "id": "4f54e5e1",
   "metadata": {},
   "source": [
    "**PROMPT 4:**\n",
    "\n",
    "Give a user, who wants to try AI for generating music, an example prompt between 25 to 50 words long that will incorporate the following features into a piece of music: a minor key, mid pitch range, 8 measures, 120 beats/minute, cinematic genre, unknown track role,  bass instrument, standard sample rhythm, 4/4 time signature, minimum velocity of 101, maximum velocity of 102, and unique chords of ['D', 'Dm', 'G', 'C', 'Am']. The unique chords feature represents a list of unique chords. Your response should include music terms. If a feature includes the word 'unknown', then eliminate this feature from your response."
   ]
  },
  {
   "cell_type": "markdown",
   "id": "18a41c30",
   "metadata": {},
   "source": [
    "**PROMPT 5:**\n",
    "\n",
    "Can you organize the following features into a set of instructions between 25 to 50 words long that can be used to prompt an LLM to produce a piece of music: a minor key, mid pitch range, 8 measures, 120 beats/minute, cinematic genre, unknown track role,  bass instrument, standard sample rhythm, 4/4 time signature, minimum velocity of 101, maximum velocity of 102, and unique chords of ['D', 'Dm', 'G', 'C', 'Am']. The unique chords feature represents a list of unique chords. Your response should include music terms, and be experimental and thematic. If a feature includes the word 'unknown', then eliminate this feature from your response."
   ]
  },
  {
   "cell_type": "markdown",
   "id": "0c898adc-74b2-4ba1-b07b-71f09fc4a73c",
   "metadata": {},
   "source": [
    "## ChatGPT Response Generation"
   ]
  },
  {
   "cell_type": "code",
   "execution_count": 164,
   "id": "03dda0d4",
   "metadata": {},
   "outputs": [
    {
     "name": "stdout",
     "output_type": "stream",
     "text": [
      "Dataframe length: 2297\n"
     ]
    }
   ],
   "source": [
    "# Manually update the dataframe\n",
    "df = df_list[1]\n",
    "\n",
    "print(f\"Dataframe length: {len(df)}\")"
   ]
  },
  {
   "cell_type": "code",
   "execution_count": 165,
   "id": "4e20df3a",
   "metadata": {},
   "outputs": [
    {
     "data": {
      "application/vnd.jupyter.widget-view+json": {
       "model_id": "302b55acfa9644b09101e1c34b1772f1",
       "version_major": 2,
       "version_minor": 0
      },
      "text/plain": [
       "  0%|          | 0/2297 [00:00<?, ?it/s]"
      ]
     },
     "metadata": {},
     "output_type": "display_data"
    }
   ],
   "source": [
    "temperature = 0.3\n",
    "sleep_delay = 0.12\n",
    "text_list = []\n",
    "\n",
    "# define a function that parallelizes the data description creation\n",
    "def process(idx, row, text_list, sleep_delay):\n",
    "    \"\"\"\n",
    "        Takes in a dataframe and returns a dataframe with the data description\n",
    "    \"\"\"\n",
    "    @retry(Exception, tries=5, delay=1, backoff=2, max_delay=120)\n",
    "    def get_completion(prompt, model='gpt-3.5-turbo'):\n",
    "        openai.api_key = openai_key\n",
    "        \n",
    "        messages = [{'role': 'user', 'content': prompt}]\n",
    "\n",
    "        response = openai.ChatCompletion.create(model=model, \n",
    "                                                messages=messages,\n",
    "                                            )\n",
    "        \n",
    "        return response.choices[0].message['content']\n",
    "    # Update prompts based on prompt engineering\n",
    "    if idx % 10 == 4 or idx % 10 == 9:\n",
    "        # prompt 1\n",
    "        prompt = \"Pretend you are a musician that wants to have fun jamming to music produced by a set of instructions. Write these instructions in 25 to 50 words, where the output music incorporates the following features: {} key, {} pitch range, {} measures, {} beats/minute, {} genre, {} track role,  {} instrument, {} sample rhythm, {} time signature, minimum velocity of {}, maximum velocity of {}, and unique chords of {}. The unique chords feature represents a list of unique chords. If a feature includes the word 'unknown', then eliminate this feature from your response.\".format(\n",
    "                        row['audio_key'], \n",
    "                        row['pitch_range'], \n",
    "                        row['num_measures'], \n",
    "                        row['bpm'], \n",
    "                        row['genre'], \n",
    "                        row['track_role'], \n",
    "                        row['inst'], \n",
    "                        row['sample_rhythm'],\n",
    "                        row['time_signature'], \n",
    "                        row['min_velocity'], \n",
    "                        row['max_velocity'], \n",
    "                        row['unique_chord_n_note']\n",
    "                        )\n",
    "    \n",
    "    if idx % 10 == 0 or idx % 10 == 7:\n",
    "        # prompt 2\n",
    "        prompt = \"Give a realistic but natural instruction between 25 to 50 words in the point-of-view of a hobbyist musician doing a jamming or accompaniment session, which includes the following features: {} key, {} pitch range, {} measures, {} beats/minute, {} genre, {} track role,  {} instrument, {} sample rhythm, {} time signature, minimum velocity of {}, maximum velocity of {}, and unique chords of {}. The unique chords feature represents a list of unique chords. Your response should include music terms. If a feature includes the word 'unknown', then eliminate this feature from your response.\".format(\n",
    "                        row['audio_key'], \n",
    "                        row['pitch_range'], \n",
    "                        row['num_measures'], \n",
    "                        row['bpm'], \n",
    "                        row['genre'], \n",
    "                        row['track_role'], \n",
    "                        row['inst'], \n",
    "                        row['sample_rhythm'],\n",
    "                        row['time_signature'], \n",
    "                        row['min_velocity'], \n",
    "                        row['max_velocity'], \n",
    "                        row['unique_chord_n_note']\n",
    "                        )\n",
    "        \n",
    "    if idx % 10 == 2 or idx % 10 == 8:\n",
    "        # prompt 3\n",
    "        prompt = \"You are a professional musician looking to sharpen musical skills through an accompaniment session. Write a set of instructions between 25 to 50 words long that will generate music based on the following features: {} key, {} pitch range, {} measures, {} beats/minute, {} genre, {} track role,  {} instrument, {} sample rhythm, {} time signature, minimum velocity of {}, maximum velocity of {}, and unique chords of {}. The unique chords feature represents a list of unique chords. Your response should include music terms. If a feature includes the word 'unknown', then eliminate this feature from your response.\".format(\n",
    "                        row['audio_key'], \n",
    "                        row['pitch_range'], \n",
    "                        row['num_measures'], \n",
    "                        row['bpm'], \n",
    "                        row['genre'], \n",
    "                        row['track_role'], \n",
    "                        row['inst'], \n",
    "                        row['sample_rhythm'],\n",
    "                        row['time_signature'], \n",
    "                        row['min_velocity'], \n",
    "                        row['max_velocity'], \n",
    "                        row['unique_chord_n_note']\n",
    "                        )        \n",
    "\n",
    "    if idx % 10 == 1 or idx % 10 == 6:\n",
    "        # prompt 4\n",
    "        prompt = \"Give a user, who wants to try AI for generating music, an example prompt between 25 to 50 words long that will incorporate the following features into a piece of music: {} key, {} pitch range, {} measures, {} beats/minute, {} genre, {} track role,  {} instrument, {} sample rhythm, {} time signature, minimum velocity of {}, maximum velocity of {}, and unique chords of {}. The unique chords feature represents a list of unique chords. Your response should include music terms. If a feature includes the word 'unknown', then eliminate this feature from your response.\".format(\n",
    "                        row['audio_key'], \n",
    "                        row['pitch_range'], \n",
    "                        row['num_measures'], \n",
    "                        row['bpm'], \n",
    "                        row['genre'], \n",
    "                        row['track_role'], \n",
    "                        row['inst'], \n",
    "                        row['sample_rhythm'],\n",
    "                        row['time_signature'], \n",
    "                        row['min_velocity'], \n",
    "                        row['max_velocity'], \n",
    "                        row['unique_chord_n_note']\n",
    "                        )  \n",
    "        \n",
    "    if idx % 10 == 3 or idx % 10 == 5:\n",
    "        # prompt 5\n",
    "        prompt = \"Can you organize the following features into a set of instructions between 25 to 50 words long that can be used to prompt an LLM to produce a piece of music: {} key, {} pitch range, {} measures, {} beats/minute, {} genre, {} track role,  {} instrument, {} sample rhythm, {} time signature, minimum velocity of {}, maximum velocity of {}, and unique chords of {}. The unique chords feature represents a list of unique chords. Your response should include music terms, and be experimental and thematic. If a feature includes the word 'unknown', then eliminate this feature from your response.\".format(\n",
    "                        row['audio_key'], \n",
    "                        row['pitch_range'], \n",
    "                        row['num_measures'], \n",
    "                        row['bpm'], \n",
    "                        row['genre'], \n",
    "                        row['track_role'], \n",
    "                        row['inst'], \n",
    "                        row['sample_rhythm'],\n",
    "                        row['time_signature'], \n",
    "                        row['min_velocity'], \n",
    "                        row['max_velocity'], \n",
    "                        row['unique_chord_n_note']\n",
    "                        )  \n",
    "    \n",
    "    response = get_completion(prompt)\n",
    "    text_list.append(response)\n",
    "    time.sleep(sleep_delay)\n",
    "    return text_list\n",
    "\n",
    "text_list = Parallel(n_jobs=10, timeout=10000)(delayed(process)(idx, row, text_list, sleep_delay) for (idx, row) in tqdm(df.iterrows(), total=len(df)))"
   ]
  },
  {
   "cell_type": "code",
   "execution_count": 166,
   "id": "d7a6b175-d6c8-4106-9fa4-ebb9eef9a5ff",
   "metadata": {},
   "outputs": [
    {
     "name": "stdout",
     "output_type": "stream",
     "text": [
      "Number of records: 2297\n"
     ]
    }
   ],
   "source": [
    "num_text = len(text_list)\n",
    "print(f\"Number of records: {num_text}\")\n",
    "df_limit = df.head(num_text)"
   ]
  },
  {
   "cell_type": "code",
   "execution_count": null,
   "id": "c5ffb8d9-ab18-4df6-9b5f-fa2dbc7a9f93",
   "metadata": {},
   "outputs": [],
   "source": [
    "df_limit.loc[:, 'text'] = text_list"
   ]
  },
  {
   "cell_type": "code",
   "execution_count": 168,
   "id": "9f5812f7-0c7f-45fa-9d0f-3d4b2fef8a40",
   "metadata": {},
   "outputs": [
    {
     "data": {
      "text/plain": [
       "audio_key              2297\n",
       "chord_progressions     2297\n",
       "pitch_range            2297\n",
       "num_measures           2297\n",
       "bpm                    2297\n",
       "genre                  2297\n",
       "track_role             2297\n",
       "inst                   2297\n",
       "sample_rhythm          2297\n",
       "time_signature         2297\n",
       "min_velocity           2297\n",
       "max_velocity           2297\n",
       "split_data             2297\n",
       "id                     2297\n",
       "track_roll             2297\n",
       "unique_chord_n_note    2297\n",
       "text                   2297\n",
       "dtype: int64"
      ]
     },
     "execution_count": 168,
     "metadata": {},
     "output_type": "execute_result"
    }
   ],
   "source": [
    "df_limit.count()"
   ]
  },
  {
   "cell_type": "markdown",
   "id": "407dbac7-1f13-4dcb-b024-c8771bbb93bd",
   "metadata": {},
   "source": [
    "## Dataset Update"
   ]
  },
  {
   "cell_type": "code",
   "execution_count": 169,
   "id": "bd89eac2-8938-4276-8de4-980a4c23c500",
   "metadata": {},
   "outputs": [],
   "source": [
    "if os.path.exists(output_path):\n",
    "    csv_df = pd.read_csv(output_path)\n",
    "    if csv_df.empty:\n",
    "        df_limit.to_csv(output_path, index=False)\n",
    "    else:\n",
    "        concat_df = pd.concat([csv_df, df_limit])\n",
    "        concat_df.to_csv(output_path, index=False)\n",
    "else:\n",
    "    df_limit.to_csv(output_path, index=False)\n"
   ]
  }
 ],
 "metadata": {
  "kernelspec": {
   "display_name": "Python 3 (ipykernel)",
   "language": "python",
   "name": "python3"
  },
  "language_info": {
   "codemirror_mode": {
    "name": "ipython",
    "version": 3
   },
   "file_extension": ".py",
   "mimetype": "text/x-python",
   "name": "python",
   "nbconvert_exporter": "python",
   "pygments_lexer": "ipython3",
   "version": "3.8.12"
  }
 },
 "nbformat": 4,
 "nbformat_minor": 5
}
