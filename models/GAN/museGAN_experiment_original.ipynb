{
 "cells": [
  {
   "cell_type": "code",
   "execution_count": 27,
   "metadata": {},
   "outputs": [
    {
     "name": "stdout",
     "output_type": "stream",
     "text": [
      "Requirement already satisfied: mido in c:\\users\\ktrin\\miniconda3\\envs\\w266\\lib\\site-packages (1.3.0)\n",
      "Requirement already satisfied: packaging~=23.1 in c:\\users\\ktrin\\miniconda3\\envs\\w266\\lib\\site-packages (from mido) (23.1)\n",
      "Requirement already satisfied: pygame in c:\\users\\ktrin\\miniconda3\\envs\\w266\\lib\\site-packages (2.5.1)\n",
      "Requirement already satisfied: music21 in c:\\users\\ktrin\\miniconda3\\envs\\w266\\lib\\site-packages (7.3.3)\n",
      "Requirement already satisfied: matplotlib in c:\\users\\ktrin\\miniconda3\\envs\\w266\\lib\\site-packages (from music21) (3.5.2)\n",
      "Requirement already satisfied: jsonpickle in c:\\users\\ktrin\\miniconda3\\envs\\w266\\lib\\site-packages (from music21) (2.2.0)\n",
      "Requirement already satisfied: more-itertools in c:\\users\\ktrin\\miniconda3\\envs\\w266\\lib\\site-packages (from music21) (8.13.0)\n",
      "Requirement already satisfied: webcolors>=1.5 in c:\\users\\ktrin\\miniconda3\\envs\\w266\\lib\\site-packages (from music21) (1.12)\n",
      "Requirement already satisfied: joblib in c:\\users\\ktrin\\miniconda3\\envs\\w266\\lib\\site-packages (from music21) (1.3.2)\n",
      "Requirement already satisfied: numpy in c:\\users\\ktrin\\miniconda3\\envs\\w266\\lib\\site-packages (from music21) (1.23.1)\n",
      "Requirement already satisfied: chardet in c:\\users\\ktrin\\miniconda3\\envs\\w266\\lib\\site-packages (from music21) (5.0.0)\n",
      "Requirement already satisfied: packaging>=20.0 in c:\\users\\ktrin\\miniconda3\\envs\\w266\\lib\\site-packages (from matplotlib->music21) (23.1)\n",
      "Requirement already satisfied: pillow>=6.2.0 in c:\\users\\ktrin\\miniconda3\\envs\\w266\\lib\\site-packages (from matplotlib->music21) (9.2.0)\n",
      "Requirement already satisfied: python-dateutil>=2.7 in c:\\users\\ktrin\\miniconda3\\envs\\w266\\lib\\site-packages (from matplotlib->music21) (2.8.2)\n",
      "Requirement already satisfied: kiwisolver>=1.0.1 in c:\\users\\ktrin\\miniconda3\\envs\\w266\\lib\\site-packages (from matplotlib->music21) (1.4.4)\n",
      "Requirement already satisfied: cycler>=0.10 in c:\\users\\ktrin\\miniconda3\\envs\\w266\\lib\\site-packages (from matplotlib->music21) (0.11.0)\n",
      "Requirement already satisfied: pyparsing>=2.2.1 in c:\\users\\ktrin\\miniconda3\\envs\\w266\\lib\\site-packages (from matplotlib->music21) (3.0.9)\n",
      "Requirement already satisfied: fonttools>=4.22.0 in c:\\users\\ktrin\\miniconda3\\envs\\w266\\lib\\site-packages (from matplotlib->music21) (4.34.4)\n",
      "Requirement already satisfied: six>=1.5 in c:\\users\\ktrin\\miniconda3\\envs\\w266\\lib\\site-packages (from python-dateutil>=2.7->matplotlib->music21) (1.16.0)\n",
      "Requirement already satisfied: scikit-learn==1.3.0 in c:\\users\\ktrin\\miniconda3\\envs\\w266\\lib\\site-packages (1.3.0)\n",
      "Requirement already satisfied: numpy>=1.17.3 in c:\\users\\ktrin\\miniconda3\\envs\\w266\\lib\\site-packages (from scikit-learn==1.3.0) (1.23.1)\n",
      "Requirement already satisfied: scipy>=1.5.0 in c:\\users\\ktrin\\miniconda3\\envs\\w266\\lib\\site-packages (from scikit-learn==1.3.0) (1.9.1)\n",
      "Requirement already satisfied: threadpoolctl>=2.0.0 in c:\\users\\ktrin\\miniconda3\\envs\\w266\\lib\\site-packages (from scikit-learn==1.3.0) (3.2.0)\n",
      "Requirement already satisfied: joblib>=1.1.1 in c:\\users\\ktrin\\miniconda3\\envs\\w266\\lib\\site-packages (from scikit-learn==1.3.0) (1.3.2)\n"
     ]
    }
   ],
   "source": [
    "!pip install mido\n",
    "!pip install pygame\n",
    "!pip install music21\n",
    "!pip install scikit-learn==1.3.0"
   ]
  },
  {
   "cell_type": "code",
   "execution_count": 1,
   "metadata": {},
   "outputs": [],
   "source": [
    "# import some useful libraries\n",
    "import glob, nltk, joblib\n",
    "import pandas as pd\n",
    "import numpy as np\n",
    "import tensorflow as tf\n",
    "import matplotlib.pyplot as plt\n",
    "\n",
    "import tensorflow as tf\n",
    "from tensorflow import keras\n",
    "from keras import metrics\n",
    "\n",
    "from PIL import Image\n",
    "from tqdm.notebook import tqdm\n",
    "\n",
    "from sklearn.feature_extraction.text import CountVectorizer\n",
    "\n",
    "from music21 import midi\n",
    "from plugins.midi2img import midi2img\n",
    "from plugins.img2midi import img2midi\n",
    "from IPython.display import clear_output"
   ]
  },
  {
   "cell_type": "markdown",
   "metadata": {},
   "source": [
    "# Load In museGAN dataset for visualization purposes\n",
    "It turned out that the people at museGAN is leveraging midi -> image conversion. The image consisted of bar of a multi track piano roll. From the below image, the horizontal represent time and the vericle represent the instrument used. In this dataset the instrument are layered from bottom to top as piano, strings, guitar, drums, bass.\n"
   ]
  },
  {
   "cell_type": "code",
   "execution_count": 2,
   "metadata": {},
   "outputs": [
    {
     "name": "stderr",
     "output_type": "stream",
     "text": [
      "[nltk_data] Downloading package punkt to\n",
      "[nltk_data]     C:\\Users\\ktrin\\AppData\\Roaming\\nltk_data...\n",
      "[nltk_data]   Package punkt is already up-to-date!\n"
     ]
    },
    {
     "data": {
      "text/plain": [
       "True"
      ]
     },
     "execution_count": 2,
     "metadata": {},
     "output_type": "execute_result"
    }
   ],
   "source": [
    "# download the punkt tokenizer from nltk to tokenize the piece caption\n",
    "nltk.download('punkt')"
   ]
  },
  {
   "cell_type": "markdown",
   "metadata": {},
   "source": [
    "# Construction of museGAN\n",
    "## External Data Source\n",
    "For whatever reason, if we wanted to perform GAN modeling, we can leverage conversion of MIDI data to that of the piano roll. Download the data from piano repo in README and start performing the things below. [Convert-MIDI-TO-NP-ARRAY](https://medium.com/analytics-vidhya/convert-midi-file-to-numpy-array-in-python-7d00531890c)"
   ]
  },
  {
   "cell_type": "markdown",
   "metadata": {},
   "source": [
    "# Caption Processing"
   ]
  },
  {
   "cell_type": "code",
   "execution_count": 3,
   "metadata": {},
   "outputs": [],
   "source": [
    "MAX_SEQ_LENGTH = 20 # 18 + start, end\n",
    "EMBED_DIM = 100 \n",
    "MAX_VOCAB_SIZE = 20000"
   ]
  },
  {
   "cell_type": "code",
   "execution_count": 4,
   "metadata": {},
   "outputs": [
    {
     "data": {
      "text/html": [
       "<div>\n",
       "<style scoped>\n",
       "    .dataframe tbody tr th:only-of-type {\n",
       "        vertical-align: middle;\n",
       "    }\n",
       "\n",
       "    .dataframe tbody tr th {\n",
       "        vertical-align: top;\n",
       "    }\n",
       "\n",
       "    .dataframe thead th {\n",
       "        text-align: right;\n",
       "    }\n",
       "</style>\n",
       "<table border=\"1\" class=\"dataframe\">\n",
       "  <thead>\n",
       "    <tr style=\"text-align: right;\">\n",
       "      <th></th>\n",
       "      <th>piece_id</th>\n",
       "      <th>piece_description</th>\n",
       "      <th>piece_arousal</th>\n",
       "      <th>piece_name</th>\n",
       "      <th>midi_file</th>\n",
       "      <th>caption_list</th>\n",
       "    </tr>\n",
       "  </thead>\n",
       "  <tbody>\n",
       "    <tr>\n",
       "      <th>0</th>\n",
       "      <td>0</td>\n",
       "      <td>very upbeat</td>\n",
       "      <td>Delighted</td>\n",
       "      <td>Lurking In The Darkness</td>\n",
       "      <td>Final Fantasy_PS1_Final Fantasy VII_Lurking In...</td>\n",
       "      <td>very upbeat. delighted</td>\n",
       "    </tr>\n",
       "    <tr>\n",
       "      <th>1</th>\n",
       "      <td>1</td>\n",
       "      <td>I could tell the valence of the example was in...</td>\n",
       "      <td>Valence started out moderately negative and pr...</td>\n",
       "      <td>Lurking In The Darkness</td>\n",
       "      <td>Final Fantasy_PS1_Final Fantasy VII_Lurking In...</td>\n",
       "      <td>i could tell the valence of the example was in...</td>\n",
       "    </tr>\n",
       "    <tr>\n",
       "      <th>2</th>\n",
       "      <td>2</td>\n",
       "      <td>For a second I thought this piece was going to...</td>\n",
       "      <td>This piece seemed to have a positive valence t...</td>\n",
       "      <td>Lurking In The Darkness</td>\n",
       "      <td>Final Fantasy_PS1_Final Fantasy VII_Lurking In...</td>\n",
       "      <td>for a second i thought this piece was going to...</td>\n",
       "    </tr>\n",
       "    <tr>\n",
       "      <th>3</th>\n",
       "      <td>3</td>\n",
       "      <td>Bouncy and fun</td>\n",
       "      <td>Kind of sparatic</td>\n",
       "      <td>Lurking In The Darkness</td>\n",
       "      <td>Final Fantasy_PS1_Final Fantasy VII_Lurking In...</td>\n",
       "      <td>bouncy and fun. kind of sparatic</td>\n",
       "    </tr>\n",
       "    <tr>\n",
       "      <th>4</th>\n",
       "      <td>4</td>\n",
       "      <td>nice</td>\n",
       "      <td>nice</td>\n",
       "      <td>Lurking In The Darkness</td>\n",
       "      <td>Final Fantasy_PS1_Final Fantasy VII_Lurking In...</td>\n",
       "      <td>nice. nice</td>\n",
       "    </tr>\n",
       "    <tr>\n",
       "      <th>...</th>\n",
       "      <td>...</td>\n",
       "      <td>...</td>\n",
       "      <td>...</td>\n",
       "      <td>...</td>\n",
       "      <td>...</td>\n",
       "      <td>...</td>\n",
       "    </tr>\n",
       "    <tr>\n",
       "      <th>6100</th>\n",
       "      <td>6100</td>\n",
       "      <td>It started off slowly but happy and then built...</td>\n",
       "      <td>Seemed to remain consistent almost like it was...</td>\n",
       "      <td>One Winged Angel</td>\n",
       "      <td>Final Fantasy_PS1_Final Fantasy VII_One Winged...</td>\n",
       "      <td>it started off slowly but happy and then built...</td>\n",
       "    </tr>\n",
       "    <tr>\n",
       "      <th>6101</th>\n",
       "      <td>6101</td>\n",
       "      <td>This starts off a certain way then changes in ...</td>\n",
       "      <td>This is nostalgic because I recognize this and...</td>\n",
       "      <td>One Winged Angel</td>\n",
       "      <td>Final Fantasy_PS1_Final Fantasy VII_One Winged...</td>\n",
       "      <td>this starts off a certain way then changes in ...</td>\n",
       "    </tr>\n",
       "    <tr>\n",
       "      <th>6102</th>\n",
       "      <td>6102</td>\n",
       "      <td>The piece begins slow in tempo and then become...</td>\n",
       "      <td>The beginning rhythm sounds suspenseful, makin...</td>\n",
       "      <td>One Winged Angel</td>\n",
       "      <td>Final Fantasy_PS1_Final Fantasy VII_One Winged...</td>\n",
       "      <td>the piece begins slow in tempo and then become...</td>\n",
       "    </tr>\n",
       "    <tr>\n",
       "      <th>6103</th>\n",
       "      <td>6103</td>\n",
       "      <td>started slow but picked up.</td>\n",
       "      <td>I feel it stayed the same</td>\n",
       "      <td>One Winged Angel</td>\n",
       "      <td>Final Fantasy_PS1_Final Fantasy VII_One Winged...</td>\n",
       "      <td>started slow but picked up. . i feel it stayed...</td>\n",
       "    </tr>\n",
       "    <tr>\n",
       "      <th>6104</th>\n",
       "      <td>6104</td>\n",
       "      <td>the music is kind of happy and then starts slo...</td>\n",
       "      <td>this music sounds intense. it doesn't change m...</td>\n",
       "      <td>One Winged Angel</td>\n",
       "      <td>Final Fantasy_PS1_Final Fantasy VII_One Winged...</td>\n",
       "      <td>the music is kind of happy and then starts slo...</td>\n",
       "    </tr>\n",
       "  </tbody>\n",
       "</table>\n",
       "<p>6105 rows × 6 columns</p>\n",
       "</div>"
      ],
      "text/plain": [
       "      piece_id                                  piece_description  \\\n",
       "0            0                                        very upbeat   \n",
       "1            1  I could tell the valence of the example was in...   \n",
       "2            2  For a second I thought this piece was going to...   \n",
       "3            3                                     Bouncy and fun   \n",
       "4            4                                               nice   \n",
       "...        ...                                                ...   \n",
       "6100      6100  It started off slowly but happy and then built...   \n",
       "6101      6101  This starts off a certain way then changes in ...   \n",
       "6102      6102  The piece begins slow in tempo and then become...   \n",
       "6103      6103                       started slow but picked up.    \n",
       "6104      6104  the music is kind of happy and then starts slo...   \n",
       "\n",
       "                                          piece_arousal  \\\n",
       "0                                             Delighted   \n",
       "1     Valence started out moderately negative and pr...   \n",
       "2     This piece seemed to have a positive valence t...   \n",
       "3                                      Kind of sparatic   \n",
       "4                                                  nice   \n",
       "...                                                 ...   \n",
       "6100  Seemed to remain consistent almost like it was...   \n",
       "6101  This is nostalgic because I recognize this and...   \n",
       "6102  The beginning rhythm sounds suspenseful, makin...   \n",
       "6103                         I feel it stayed the same    \n",
       "6104  this music sounds intense. it doesn't change m...   \n",
       "\n",
       "                   piece_name  \\\n",
       "0     Lurking In The Darkness   \n",
       "1     Lurking In The Darkness   \n",
       "2     Lurking In The Darkness   \n",
       "3     Lurking In The Darkness   \n",
       "4     Lurking In The Darkness   \n",
       "...                       ...   \n",
       "6100         One Winged Angel   \n",
       "6101         One Winged Angel   \n",
       "6102         One Winged Angel   \n",
       "6103         One Winged Angel   \n",
       "6104         One Winged Angel   \n",
       "\n",
       "                                              midi_file  \\\n",
       "0     Final Fantasy_PS1_Final Fantasy VII_Lurking In...   \n",
       "1     Final Fantasy_PS1_Final Fantasy VII_Lurking In...   \n",
       "2     Final Fantasy_PS1_Final Fantasy VII_Lurking In...   \n",
       "3     Final Fantasy_PS1_Final Fantasy VII_Lurking In...   \n",
       "4     Final Fantasy_PS1_Final Fantasy VII_Lurking In...   \n",
       "...                                                 ...   \n",
       "6100  Final Fantasy_PS1_Final Fantasy VII_One Winged...   \n",
       "6101  Final Fantasy_PS1_Final Fantasy VII_One Winged...   \n",
       "6102  Final Fantasy_PS1_Final Fantasy VII_One Winged...   \n",
       "6103  Final Fantasy_PS1_Final Fantasy VII_One Winged...   \n",
       "6104  Final Fantasy_PS1_Final Fantasy VII_One Winged...   \n",
       "\n",
       "                                           caption_list  \n",
       "0                                very upbeat. delighted  \n",
       "1     i could tell the valence of the example was in...  \n",
       "2     for a second i thought this piece was going to...  \n",
       "3                      bouncy and fun. kind of sparatic  \n",
       "4                                            nice. nice  \n",
       "...                                                 ...  \n",
       "6100  it started off slowly but happy and then built...  \n",
       "6101  this starts off a certain way then changes in ...  \n",
       "6102  the piece begins slow in tempo and then become...  \n",
       "6103  started slow but picked up. . i feel it stayed...  \n",
       "6104  the music is kind of happy and then starts slo...  \n",
       "\n",
       "[6105 rows x 6 columns]"
      ]
     },
     "execution_count": 4,
     "metadata": {},
     "output_type": "execute_result"
    }
   ],
   "source": [
    "# load in the metadata\n",
    "# create a list of captions that concatenate the piece description and arousal\n",
    "# lower case te caption list\n",
    "midi_meta = pd.read_csv('../data/piano-labelled/labelled_piano_midi_metadata.csv')\n",
    "midi_meta['caption_list'] = midi_meta['piece_description'].str.lower()+ \". \" + midi_meta['piece_arousal'].str.lower()\n",
    "midi_meta"
   ]
  },
  {
   "cell_type": "code",
   "execution_count": 5,
   "metadata": {},
   "outputs": [
    {
     "data": {
      "application/vnd.jupyter.widget-view+json": {
       "model_id": "f5a4690dfb31412982e8c9a5f719698b",
       "version_major": 2,
       "version_minor": 0
      },
      "text/plain": [
       "  0%|          | 0/6105 [00:00<?, ?it/s]"
      ]
     },
     "metadata": {},
     "output_type": "display_data"
    }
   ],
   "source": [
    "# build a vocabulary using sklearn count vectorizer to create a vocab from the most frequent words\n",
    "input_captions = []\n",
    "max_caption_length = -1 \n",
    "\n",
    "for caption in tqdm(midi_meta['caption_list'].values):\n",
    "    tokenized_caption = nltk.word_tokenize(caption, language='english')\n",
    "\n",
    "    if len(tokenized_caption) > max_caption_length:\n",
    "        max_caption_length = len(tokenized_caption)\n",
    "\n",
    "    caption = (' '.join(tokenized_caption)).lower()\n",
    "    input_captions.append(caption)\n",
    "\n",
    "\n",
    "vectorizer = CountVectorizer(max_features=MAX_VOCAB_SIZE)\n",
    "vectorizer.fit(input_captions)\n",
    "vocab = vectorizer.get_feature_names_out()\n",
    "MAX_VOCAB_SIZE = len(vocab)"
   ]
  },
  {
   "cell_type": "code",
   "execution_count": 6,
   "metadata": {},
   "outputs": [],
   "source": [
    "# turn vocab into a dictionary of words and token id\n",
    "# replace some words with special tokens like start/end/unk\n",
    "# if the caption is too short, pad it with <pad> token\n",
    "id_vocab_dict = {}\n",
    "vocab_id_dict = {}\n",
    "\n",
    "for sid, svocab in enumerate(vocab):\n",
    "    id_vocab_dict[sid] = svocab\n",
    "    vocab_id_dict[svocab] = sid\n",
    "\n",
    "id_vocab_dict[MAX_VOCAB_SIZE] = \"<unk>\"\n",
    "id_vocab_dict[MAX_VOCAB_SIZE + 1] = \"<start>\"\n",
    "id_vocab_dict[MAX_VOCAB_SIZE + 2] = \"<end>\"\n",
    "id_vocab_dict[MAX_VOCAB_SIZE + 3] = \"<pad>\"\n",
    "\n",
    "vocab_id_dict[\"<unk>\"] = MAX_VOCAB_SIZE\n",
    "vocab_id_dict[\"<start>\"] = MAX_VOCAB_SIZE + 1\n",
    "vocab_id_dict[\"<end>\"] = MAX_VOCAB_SIZE + 2\n",
    "vocab_id_dict[\"<pad>\"] = MAX_VOCAB_SIZE + 3"
   ]
  },
  {
   "cell_type": "code",
   "execution_count": 7,
   "metadata": {},
   "outputs": [
    {
     "data": {
      "text/plain": [
       "6105"
      ]
     },
     "execution_count": 7,
     "metadata": {},
     "output_type": "execute_result"
    }
   ],
   "source": [
    "# tokenization - take the input caption and tokenize it\n",
    "# declare a max sequence length \n",
    "def convert_text_to_data(texts, \n",
    "                         vocab_id_dict, \n",
    "                         max_length=20, \n",
    "                         type=None):\n",
    "    \"\"\"\n",
    "        Function to convert text based data into tokenized data with proper padding\n",
    "    \"\"\"\n",
    "\n",
    "    processed_data = []\n",
    "    for text_num, text in enumerate(texts):\n",
    "        sentence_ids = []\n",
    "\n",
    "        # split the sentence into token\n",
    "        # use the vocab to turn the word token into number\n",
    "        for token in text.split():\n",
    "            if token in vocab_id_dict.keys():\n",
    "                sentence_ids.append(vocab_id_dict[token])\n",
    "            else:\n",
    "                sentence_ids.append(vocab_id_dict[\"<unk>\"])\n",
    "\n",
    "        vocab_size = len(vocab_id_dict.keys())\n",
    "\n",
    "        # for decoder cases:\n",
    "        # input sentence: <start>, [tokenize words from vocab], <end>, padded with <unk>\n",
    "        # ouput sentence has: [tokenize words from vocab], <end>, padded with <unk>\n",
    "        if type == 'input_target':\n",
    "            ids = ([vocab_size - 3] + sentence_ids + [vocab_size - 2] + [vocab_size - 1] * max_length)[:max_length]\n",
    "        elif type == 'output_target':\n",
    "            ids = (sentence_ids + [vocab_size - 2] + [vocab_size - 1] * max_length)[:max_length]\n",
    "        processed_data.append(ids)\n",
    "\n",
    "    return np.array(processed_data)\n",
    "\n",
    "\n",
    "train_target_input_data = convert_text_to_data(input_captions,\n",
    "                                                vocab_id_dict,\n",
    "                                                type='input_target',\n",
    "                                                max_length=MAX_SEQ_LENGTH)\n",
    "len(train_target_input_data)"
   ]
  },
  {
   "cell_type": "code",
   "execution_count": 8,
   "metadata": {},
   "outputs": [
    {
     "data": {
      "text/html": [
       "<div>\n",
       "<style scoped>\n",
       "    .dataframe tbody tr th:only-of-type {\n",
       "        vertical-align: middle;\n",
       "    }\n",
       "\n",
       "    .dataframe tbody tr th {\n",
       "        vertical-align: top;\n",
       "    }\n",
       "\n",
       "    .dataframe thead th {\n",
       "        text-align: right;\n",
       "    }\n",
       "</style>\n",
       "<table border=\"1\" class=\"dataframe\">\n",
       "  <thead>\n",
       "    <tr style=\"text-align: right;\">\n",
       "      <th></th>\n",
       "      <th>piece_id</th>\n",
       "      <th>piece_description</th>\n",
       "      <th>piece_arousal</th>\n",
       "      <th>piece_name</th>\n",
       "      <th>midi_file</th>\n",
       "      <th>caption_list</th>\n",
       "      <th>tokenized_captions</th>\n",
       "    </tr>\n",
       "  </thead>\n",
       "  <tbody>\n",
       "    <tr>\n",
       "      <th>0</th>\n",
       "      <td>0</td>\n",
       "      <td>very upbeat</td>\n",
       "      <td>Delighted</td>\n",
       "      <td>Lurking In The Darkness</td>\n",
       "      <td>Final Fantasy_PS1_Final Fantasy VII_Lurking In...</td>\n",
       "      <td>very upbeat. delighted</td>\n",
       "      <td>[3452, 3319, 3258, 3451, 762, 3453, 3454, 3454...</td>\n",
       "    </tr>\n",
       "    <tr>\n",
       "      <th>1</th>\n",
       "      <td>1</td>\n",
       "      <td>I could tell the valence of the example was in...</td>\n",
       "      <td>Valence started out moderately negative and pr...</td>\n",
       "      <td>Lurking In The Darkness</td>\n",
       "      <td>Final Fantasy_PS1_Final Fantasy VII_Lurking In...</td>\n",
       "      <td>i could tell the valence of the example was in...</td>\n",
       "      <td>[3452, 3451, 661, 3025, 3053, 3290, 2095, 3053...</td>\n",
       "    </tr>\n",
       "    <tr>\n",
       "      <th>2</th>\n",
       "      <td>2</td>\n",
       "      <td>For a second I thought this piece was going to...</td>\n",
       "      <td>This piece seemed to have a positive valence t...</td>\n",
       "      <td>Lurking In The Darkness</td>\n",
       "      <td>Final Fantasy_PS1_Final Fantasy VII_Lurking In...</td>\n",
       "      <td>for a second i thought this piece was going to...</td>\n",
       "      <td>[3452, 1220, 3451, 2627, 3451, 3078, 3074, 224...</td>\n",
       "    </tr>\n",
       "    <tr>\n",
       "      <th>3</th>\n",
       "      <td>3</td>\n",
       "      <td>Bouncy and fun</td>\n",
       "      <td>Kind of sparatic</td>\n",
       "      <td>Lurking In The Darkness</td>\n",
       "      <td>Final Fantasy_PS1_Final Fantasy VII_Lurking In...</td>\n",
       "      <td>bouncy and fun. kind of sparatic</td>\n",
       "      <td>[3452, 364, 138, 1262, 3451, 1686, 2095, 2820,...</td>\n",
       "    </tr>\n",
       "    <tr>\n",
       "      <th>4</th>\n",
       "      <td>4</td>\n",
       "      <td>nice</td>\n",
       "      <td>nice</td>\n",
       "      <td>Lurking In The Darkness</td>\n",
       "      <td>Final Fantasy_PS1_Final Fantasy VII_Lurking In...</td>\n",
       "      <td>nice. nice</td>\n",
       "      <td>[3452, 2044, 3451, 2044, 3453, 3454, 3454, 345...</td>\n",
       "    </tr>\n",
       "    <tr>\n",
       "      <th>...</th>\n",
       "      <td>...</td>\n",
       "      <td>...</td>\n",
       "      <td>...</td>\n",
       "      <td>...</td>\n",
       "      <td>...</td>\n",
       "      <td>...</td>\n",
       "      <td>...</td>\n",
       "    </tr>\n",
       "    <tr>\n",
       "      <th>6100</th>\n",
       "      <td>6100</td>\n",
       "      <td>It started off slowly but happy and then built...</td>\n",
       "      <td>Seemed to remain consistent almost like it was...</td>\n",
       "      <td>One Winged Angel</td>\n",
       "      <td>Final Fantasy_PS1_Final Fantasy VII_One Winged...</td>\n",
       "      <td>it started off slowly but happy and then built...</td>\n",
       "      <td>[3452, 1623, 2869, 2096, 2756, 413, 1374, 138,...</td>\n",
       "    </tr>\n",
       "    <tr>\n",
       "      <th>6101</th>\n",
       "      <td>6101</td>\n",
       "      <td>This starts off a certain way then changes in ...</td>\n",
       "      <td>This is nostalgic because I recognize this and...</td>\n",
       "      <td>One Winged Angel</td>\n",
       "      <td>Final Fantasy_PS1_Final Fantasy VII_One Winged...</td>\n",
       "      <td>this starts off a certain way then changes in ...</td>\n",
       "      <td>[3452, 3074, 2872, 2096, 3451, 468, 3366, 3061...</td>\n",
       "    </tr>\n",
       "    <tr>\n",
       "      <th>6102</th>\n",
       "      <td>6102</td>\n",
       "      <td>The piece begins slow in tempo and then become...</td>\n",
       "      <td>The beginning rhythm sounds suspenseful, makin...</td>\n",
       "      <td>One Winged Angel</td>\n",
       "      <td>Final Fantasy_PS1_Final Fantasy VII_One Winged...</td>\n",
       "      <td>the piece begins slow in tempo and then become...</td>\n",
       "      <td>[3452, 3053, 2241, 304, 2751, 1510, 3031, 138,...</td>\n",
       "    </tr>\n",
       "    <tr>\n",
       "      <th>6103</th>\n",
       "      <td>6103</td>\n",
       "      <td>started slow but picked up.</td>\n",
       "      <td>I feel it stayed the same</td>\n",
       "      <td>One Winged Angel</td>\n",
       "      <td>Final Fantasy_PS1_Final Fantasy VII_One Winged...</td>\n",
       "      <td>started slow but picked up. . i feel it stayed...</td>\n",
       "      <td>[3452, 2869, 2751, 413, 2233, 3451, 3451, 3451...</td>\n",
       "    </tr>\n",
       "    <tr>\n",
       "      <th>6104</th>\n",
       "      <td>6104</td>\n",
       "      <td>the music is kind of happy and then starts slo...</td>\n",
       "      <td>this music sounds intense. it doesn't change m...</td>\n",
       "      <td>One Winged Angel</td>\n",
       "      <td>Final Fantasy_PS1_Final Fantasy VII_One Winged...</td>\n",
       "      <td>the music is kind of happy and then starts slo...</td>\n",
       "      <td>[3452, 3053, 1996, 1618, 1686, 2095, 1374, 138...</td>\n",
       "    </tr>\n",
       "  </tbody>\n",
       "</table>\n",
       "<p>6105 rows × 7 columns</p>\n",
       "</div>"
      ],
      "text/plain": [
       "      piece_id                                  piece_description  \\\n",
       "0            0                                        very upbeat   \n",
       "1            1  I could tell the valence of the example was in...   \n",
       "2            2  For a second I thought this piece was going to...   \n",
       "3            3                                     Bouncy and fun   \n",
       "4            4                                               nice   \n",
       "...        ...                                                ...   \n",
       "6100      6100  It started off slowly but happy and then built...   \n",
       "6101      6101  This starts off a certain way then changes in ...   \n",
       "6102      6102  The piece begins slow in tempo and then become...   \n",
       "6103      6103                       started slow but picked up.    \n",
       "6104      6104  the music is kind of happy and then starts slo...   \n",
       "\n",
       "                                          piece_arousal  \\\n",
       "0                                             Delighted   \n",
       "1     Valence started out moderately negative and pr...   \n",
       "2     This piece seemed to have a positive valence t...   \n",
       "3                                      Kind of sparatic   \n",
       "4                                                  nice   \n",
       "...                                                 ...   \n",
       "6100  Seemed to remain consistent almost like it was...   \n",
       "6101  This is nostalgic because I recognize this and...   \n",
       "6102  The beginning rhythm sounds suspenseful, makin...   \n",
       "6103                         I feel it stayed the same    \n",
       "6104  this music sounds intense. it doesn't change m...   \n",
       "\n",
       "                   piece_name  \\\n",
       "0     Lurking In The Darkness   \n",
       "1     Lurking In The Darkness   \n",
       "2     Lurking In The Darkness   \n",
       "3     Lurking In The Darkness   \n",
       "4     Lurking In The Darkness   \n",
       "...                       ...   \n",
       "6100         One Winged Angel   \n",
       "6101         One Winged Angel   \n",
       "6102         One Winged Angel   \n",
       "6103         One Winged Angel   \n",
       "6104         One Winged Angel   \n",
       "\n",
       "                                              midi_file  \\\n",
       "0     Final Fantasy_PS1_Final Fantasy VII_Lurking In...   \n",
       "1     Final Fantasy_PS1_Final Fantasy VII_Lurking In...   \n",
       "2     Final Fantasy_PS1_Final Fantasy VII_Lurking In...   \n",
       "3     Final Fantasy_PS1_Final Fantasy VII_Lurking In...   \n",
       "4     Final Fantasy_PS1_Final Fantasy VII_Lurking In...   \n",
       "...                                                 ...   \n",
       "6100  Final Fantasy_PS1_Final Fantasy VII_One Winged...   \n",
       "6101  Final Fantasy_PS1_Final Fantasy VII_One Winged...   \n",
       "6102  Final Fantasy_PS1_Final Fantasy VII_One Winged...   \n",
       "6103  Final Fantasy_PS1_Final Fantasy VII_One Winged...   \n",
       "6104  Final Fantasy_PS1_Final Fantasy VII_One Winged...   \n",
       "\n",
       "                                           caption_list  \\\n",
       "0                                very upbeat. delighted   \n",
       "1     i could tell the valence of the example was in...   \n",
       "2     for a second i thought this piece was going to...   \n",
       "3                      bouncy and fun. kind of sparatic   \n",
       "4                                            nice. nice   \n",
       "...                                                 ...   \n",
       "6100  it started off slowly but happy and then built...   \n",
       "6101  this starts off a certain way then changes in ...   \n",
       "6102  the piece begins slow in tempo and then become...   \n",
       "6103  started slow but picked up. . i feel it stayed...   \n",
       "6104  the music is kind of happy and then starts slo...   \n",
       "\n",
       "                                     tokenized_captions  \n",
       "0     [3452, 3319, 3258, 3451, 762, 3453, 3454, 3454...  \n",
       "1     [3452, 3451, 661, 3025, 3053, 3290, 2095, 3053...  \n",
       "2     [3452, 1220, 3451, 2627, 3451, 3078, 3074, 224...  \n",
       "3     [3452, 364, 138, 1262, 3451, 1686, 2095, 2820,...  \n",
       "4     [3452, 2044, 3451, 2044, 3453, 3454, 3454, 345...  \n",
       "...                                                 ...  \n",
       "6100  [3452, 1623, 2869, 2096, 2756, 413, 1374, 138,...  \n",
       "6101  [3452, 3074, 2872, 2096, 3451, 468, 3366, 3061...  \n",
       "6102  [3452, 3053, 2241, 304, 2751, 1510, 3031, 138,...  \n",
       "6103  [3452, 2869, 2751, 413, 2233, 3451, 3451, 3451...  \n",
       "6104  [3452, 3053, 1996, 1618, 1686, 2095, 1374, 138...  \n",
       "\n",
       "[6105 rows x 7 columns]"
      ]
     },
     "execution_count": 8,
     "metadata": {},
     "output_type": "execute_result"
    }
   ],
   "source": [
    "# added the tokenized caption to the metadata\n",
    "midi_meta['tokenized_captions'] = train_target_input_data.tolist()\n",
    "midi_meta"
   ]
  },
  {
   "cell_type": "markdown",
   "metadata": {},
   "source": [
    "## Dataset Construction"
   ]
  },
  {
   "cell_type": "code",
   "execution_count": null,
   "metadata": {},
   "outputs": [],
   "source": [
    "# read in music and prepare it in a list of notes\n",
    "midis = []\n",
    "for file in tqdm(glob.glob(\"../data/piano-labelled/midi/*.mid\")):\n",
    "    midis.append(file)"
   ]
  },
  {
   "cell_type": "code",
   "execution_count": null,
   "metadata": {},
   "outputs": [],
   "source": [
    "# convert MIDI to image\n",
    "# declare output path\n",
    "output_path = \"../data/piano-labelled/midi_img\"\n",
    "\n",
    "# instantiate a midi2img converter object\n",
    "midi2img_obj = midi2img(output_path)\n",
    "\n",
    "# for each midi file, convert it to image\n",
    "for midi in tqdm(midis):\n",
    "    data, metadata = midi2img_obj.convert_to_image(midi)\n",
    "    for img_key in data.keys():\n",
    "        try:\n",
    "            img_path = output_path+\"/\"+midi.split(\"/\")[-1].replace(\".mid\",f\"_{img_key}.png\")\n",
    "            # print(img_path)\n",
    "            img = Image.open(img_path)\n",
    "            basewidth = 106\n",
    "            hsize = 106\n",
    "            img = img.resize((basewidth,hsize), Image.ANTIALIAS)\n",
    "            img.save(img_path)\n",
    "        except:\n",
    "            print(\"Error in converting: \"+img_path)\n",
    "            pass"
   ]
  },
  {
   "cell_type": "code",
   "execution_count": null,
   "metadata": {},
   "outputs": [],
   "source": [
    "# Dataset Construction\n",
    "def access_images(path, metadata, num_images=float(\"inf\")):\n",
    "    \"\"\"\n",
    "        Fetch a defined number of images from a directory\n",
    "        and return their normalized pixels arrays\n",
    "        Inputs:\n",
    "            path: path to the directory containing the images\n",
    "            img_list: list of image names\n",
    "            num_images: number of images to fetch\n",
    "        Output:\n",
    "            image_arr: pixel array of images\n",
    "            img: the original image\n",
    "    \"\"\"\n",
    "    pixels = {}\n",
    "    imgs = []\n",
    "\n",
    "    # construct a dictionary of empty lists with the song name\n",
    "    for piece in tqdm(metadata['piece_name'].unique()):\n",
    "        # if row['piece_name'] not in pixels.keys():\n",
    "        #     pixels[row['piece_name']] = []\n",
    "            \n",
    "        # fetch all images from the directory\n",
    "        i = 0\n",
    "        for file in (glob.glob(f\"{path}/*.png\")):\n",
    "            if i >= num_images:\n",
    "                break\n",
    "            try:\n",
    "                img = Image.open(file, 'r')\n",
    "                img = img.convert('1')\n",
    "                pix = np.array(img.getdata())\n",
    "                pix = pix.astype('float32')\n",
    "                pix /= 255.0\n",
    "                \n",
    "                if piece in file:\n",
    "                    if piece not in pixels.keys():\n",
    "                        pixels[piece] = [pix.reshape(106,106,1)]\n",
    "                    else:\n",
    "                        pixels[piece].append(pix.reshape(106,106,1))\n",
    "                # pixels.append(pix.reshape(106,106,1))\n",
    "                imgs.append(img)\n",
    "            except:\n",
    "                pass\n",
    "            i+=1\n",
    "    return pixels, imgs\n",
    "\n",
    "\n",
    "img_dir = \"../data/piano-labelled/midi_img/midi\"\n",
    "pixels_arr, imgs = access_images(img_dir, midi_meta)\n",
    "np.unique(pixels_arr)"
   ]
  },
  {
   "cell_type": "code",
   "execution_count": 10,
   "metadata": {},
   "outputs": [
    {
     "ename": "NameError",
     "evalue": "name 'pixels_arr' is not defined",
     "output_type": "error",
     "traceback": [
      "\u001b[1;31m---------------------------------------------------------------------------\u001b[0m",
      "\u001b[1;31mNameError\u001b[0m                                 Traceback (most recent call last)",
      "\u001b[1;32me:\\UNIXSpace\\Git_Desktop\\Berkeley-MIDS\\Classes\\W210 - Capstone\\w210-capstone-fall2023\\workspace\\museGAN_experiment_v2.ipynb Cell 17\u001b[0m line \u001b[0;36m<cell line: 2>\u001b[1;34m()\u001b[0m\n\u001b[0;32m      <a href='vscode-notebook-cell:/e%3A/UNIXSpace/Git_Desktop/Berkeley-MIDS/Classes/W210%20-%20Capstone/w210-capstone-fall2023/workspace/museGAN_experiment_v2.ipynb#X22sZmlsZQ%3D%3D?line=0'>1</a>\u001b[0m sound_image \u001b[39m=\u001b[39m pd\u001b[39m.\u001b[39mDataFrame(columns\u001b[39m=\u001b[39m[\u001b[39m'\u001b[39m\u001b[39mpiece_name\u001b[39m\u001b[39m'\u001b[39m, \u001b[39m'\u001b[39m\u001b[39mimage_array\u001b[39m\u001b[39m'\u001b[39m])\u001b[39m#from_dict(pixels_arr, orient='index').reset_index()\u001b[39;00m\n\u001b[1;32m----> <a href='vscode-notebook-cell:/e%3A/UNIXSpace/Git_Desktop/Berkeley-MIDS/Classes/W210%20-%20Capstone/w210-capstone-fall2023/workspace/museGAN_experiment_v2.ipynb#X22sZmlsZQ%3D%3D?line=1'>2</a>\u001b[0m sound_image[\u001b[39m'\u001b[39m\u001b[39mpiece_name\u001b[39m\u001b[39m'\u001b[39m] \u001b[39m=\u001b[39m pixels_arr\u001b[39m.\u001b[39mkeys()\n\u001b[0;32m      <a href='vscode-notebook-cell:/e%3A/UNIXSpace/Git_Desktop/Berkeley-MIDS/Classes/W210%20-%20Capstone/w210-capstone-fall2023/workspace/museGAN_experiment_v2.ipynb#X22sZmlsZQ%3D%3D?line=2'>3</a>\u001b[0m sound_image[\u001b[39m'\u001b[39m\u001b[39mimage_array\u001b[39m\u001b[39m'\u001b[39m] \u001b[39m=\u001b[39m pixels_arr\u001b[39m.\u001b[39mvalues()\n\u001b[0;32m      <a href='vscode-notebook-cell:/e%3A/UNIXSpace/Git_Desktop/Berkeley-MIDS/Classes/W210%20-%20Capstone/w210-capstone-fall2023/workspace/museGAN_experiment_v2.ipynb#X22sZmlsZQ%3D%3D?line=3'>4</a>\u001b[0m sound_image\n",
      "\u001b[1;31mNameError\u001b[0m: name 'pixels_arr' is not defined"
     ]
    }
   ],
   "source": [
    "sound_image = pd.DataFrame(columns=['piece_name', 'image_array'])#from_dict(pixels_arr, orient='index').reset_index()\n",
    "sound_image['piece_name'] = pixels_arr.keys()\n",
    "sound_image['image_array'] = pixels_arr.values()\n",
    "sound_image"
   ]
  },
  {
   "cell_type": "markdown",
   "metadata": {},
   "source": []
  },
  {
   "cell_type": "code",
   "execution_count": null,
   "metadata": {},
   "outputs": [],
   "source": [
    "# merge with metadata\n",
    "midi_meta = midi_meta.merge(sound_image, on='piece_name', how='left').dropna(subset=['piece_name'])\n",
    "midi_meta"
   ]
  },
  {
   "cell_type": "code",
   "execution_count": null,
   "metadata": {},
   "outputs": [],
   "source": [
    "training_set = []\n",
    "for i, row in midi_meta.iterrows():\n",
    "    caption = row['tokenized_captions']\n",
    "    images = row['image_array']\n",
    "    try:\n",
    "        for image in images:\n",
    "            training_set.append((image, caption))\n",
    "    except:\n",
    "        pass\n",
    "training_set,len(training_set)"
   ]
  },
  {
   "cell_type": "code",
   "execution_count": null,
   "metadata": {},
   "outputs": [],
   "source": [
    "# save data as joblib\n",
    "joblib.dump(training_set, '../data/piano-labelled/training_set.joblib')"
   ]
  },
  {
   "cell_type": "markdown",
   "metadata": {},
   "source": [
    "# GAN Definition\n",
    "\n",
    "GAN model consists of two part:\n",
    "1. Generator\n",
    "2. Discriminator"
   ]
  },
  {
   "cell_type": "code",
   "execution_count": 9,
   "metadata": {},
   "outputs": [
    {
     "name": "stdout",
     "output_type": "stream",
     "text": [
      "[PhysicalDevice(name='/physical_device:GPU:0', device_type='GPU')]\n"
     ]
    }
   ],
   "source": [
    "# check to see if tensorflow mount to GPU properly\n",
    "print(tf.config.list_physical_devices('GPU'))\n"
   ]
  },
  {
   "cell_type": "code",
   "execution_count": 10,
   "metadata": {},
   "outputs": [],
   "source": [
    "def caption_enhanced_generator(latent_dim=100, \n",
    "                               caption_dim=MAX_SEQ_LENGTH, \n",
    "                               vocab_size=len(vocab_id_dict.keys()), \n",
    "                               embed_dim=EMBED_DIM):\n",
    "    \"\"\"Define the generator model\n",
    "        Inputs:\n",
    "            latent_dim: dimension of the latent space\n",
    "        Output:\n",
    "            model: the generator model\n",
    "    \"\"\"\n",
    "    n_nodes = 128 * 53 * 53\n",
    "\n",
    "    # vectorized input layers\n",
    "    input_layer = keras.layers.Input(shape=(latent_dim,), name='input_layer')\n",
    "    \n",
    "    # # vectorized caption input layers\n",
    "    # # apply word embedding to the caption\n",
    "    # caption_input_layer = keras.layers.Input(shape=(caption_dim,), name='caption_input_layer')\n",
    "    # embedding_layer  = keras.layers.Embedding(input_dim=vocab_size,\n",
    "    #                                             output_dim=embed_dim,\n",
    "    #                                             name='caption_embedding_layer')\n",
    "    # embed_caption = embedding_layer(caption_input_layer)\n",
    "\n",
    "    # # source_image_encoding = keras.layers.GlobalAveragePooling2D()(dense4)\n",
    "    # # using LSTM to encode the caption with the input layer\n",
    "    # lstm_layer = keras.layers.LSTM(100, return_sequences=True, return_state=True, name=\"decoder_lstm_layer\")\n",
    "    # decoder_output, decoder_state_h_output, decoder_state_c_output = lstm_layer(embed_caption, initial_state=[input_layer, input_layer])\n",
    "\n",
    "    # apply 1D Global Average Pooling to the output of the dense layer on the caption decoded\n",
    "    # global_average_pooling1d_layer = keras.layers.GlobalAveragePooling1D()(decoder_output)\n",
    "\n",
    "    # Dense Layer 1\n",
    "    dense1 = keras.layers.Dense(n_nodes)(input_layer)\n",
    "    leaky_relu1 = keras.layers.LeakyReLU(alpha=0.2)(dense1)\n",
    "    reshape_layer = keras.layers.Reshape((53, 53, 128))(leaky_relu1)\n",
    "\n",
    "    # Dense Layer 2\n",
    "    dense2 =  keras.layers.Dense(1024)(reshape_layer)\n",
    "\n",
    "    # Conv2DTranspose Layer\n",
    "    conv2d_transpose = keras.layers.Conv2DTranspose(1024, (4, 4), strides=(2, 2), padding='same')(dense2)\n",
    "\n",
    "    # Dense Layer 3\n",
    "    dense3 =  keras.layers.Dense(1024)(conv2d_transpose)\n",
    "    leaky_relu2 = keras.layers.LeakyReLU(alpha=0.2)(dense3)\n",
    "\n",
    "    # Dense Layer 4\n",
    "    dense4 =  keras.layers.Dense(1024)(leaky_relu2)\n",
    "\n",
    "    # Conv2D Layer\n",
    "    conv2d = keras.layers.Conv2D(1, (7, 7), padding='same', activation='sigmoid')(dense4)\n",
    "\n",
    "    # Create the model\n",
    "    model = keras.Model(inputs=input_layer, outputs=conv2d)\n",
    "    return model\n"
   ]
  },
  {
   "cell_type": "code",
   "execution_count": 11,
   "metadata": {},
   "outputs": [],
   "source": [
    "def caption_enhanced_discriminator(in_shape = (106,106,1)):\n",
    "    \"\"\"\n",
    "        GAN discriminator model\n",
    "        Inputs:\n",
    "            in_shape: shape of the input image\n",
    "        Output:\n",
    "            model: discriminator model with binary crossentropy loss to denotes if the image is real or fake\n",
    "    \"\"\"\n",
    "    # Input Layer\n",
    "    input_layer = keras.layers.Input(shape=in_shape, name='input_layer')\n",
    "    \n",
    "    # 2D Convlution Layer 1\n",
    "    conv1 = keras.layers.Conv2D(64, (3,3), strides=(2, 2), padding='same')(input_layer)\n",
    "    leaky_relu1 = keras.layers.LeakyReLU(alpha=0.2)(conv1)\n",
    "    dropout1 = keras.layers.Dropout(0.5)(leaky_relu1)\n",
    "\n",
    "    # 2D Convlution Layer 2\n",
    "    conv2 = keras.layers.Conv2D(64, (3,3), strides=(2, 2), padding='same')(dropout1)\n",
    "    leaky_relu2 = keras.layers.LeakyReLU(alpha=0.2)(conv2)\n",
    "    dropout2 = keras.layers.Dropout(0.5)(leaky_relu2)\n",
    "\n",
    "    # Flatten Layer\n",
    "    flatten_layer = keras.layers.Flatten()(dropout2)\n",
    "\n",
    "    # Batch Normalization Layer\n",
    "    batch_normalization = keras.layers.BatchNormalization()(flatten_layer)\n",
    "\n",
    "    # Dense Output Disminator Layer\n",
    "    discriminate_layer = keras.layers.Dense(1, activation='sigmoid')(batch_normalization)\n",
    "\n",
    "    # Create the model\n",
    "    model = keras.Model(inputs=input_layer, outputs=discriminate_layer)\n",
    "    \n",
    "    # model compile\n",
    "    opt = keras.optimizers.Adam(lr=0.0002, beta_1=0.5)\n",
    "    model.compile(loss='binary_crossentropy', optimizer=opt, metrics=['accuracy'])\n",
    "    return model"
   ]
  },
  {
   "cell_type": "code",
   "execution_count": 12,
   "metadata": {},
   "outputs": [],
   "source": [
    "def caption_enhanced_miniGAN(g_model, d_model,\n",
    "                             g_model_input_shape=100, \n",
    "                             g_model_caption_input_shape=MAX_SEQ_LENGTH):\n",
    "    \"\"\"\n",
    "        GAN model architecture\n",
    "        Inputs:\n",
    "            g_model: generator model\n",
    "            d_model: discriminator model\n",
    "            g_model_input_shape: shape of the input to the generator model\n",
    "            g_model_caption_input_shape: shape of the input caption to the generator model\n",
    "        Output:\n",
    "            model: GAN model\n",
    "    \"\"\"\n",
    "    # Pause the training of the discriminator\n",
    "    d_model.trainable = False\n",
    "\n",
    "    # Define the input layer for the generator\n",
    "    generator_input = keras.layers.Input(shape=(g_model_input_shape))  # Specify the shape of the generator's input\n",
    "    # caption_input = keras.layers.Input(shape=(g_model_caption_input_shape))  # Specify the shape of the generator's input\n",
    "\n",
    "    # Define the output of the generator\n",
    "    generator_output = g_model(generator_input)\n",
    "\n",
    "    # Define the output of the discriminator\n",
    "    discriminator_output = d_model(generator_output)\n",
    "\n",
    "    # Create the model\n",
    "    model = keras.Model(inputs=generator_input, outputs=discriminator_output)\n",
    "\n",
    "    # Compile the model\n",
    "    opt = keras.optimizers.Adam(lr=0.0002, beta_1=0.5)\n",
    "    model.compile(loss='binary_crossentropy', optimizer=opt)\n",
    "    return model"
   ]
  },
  {
   "cell_type": "code",
   "execution_count": 13,
   "metadata": {},
   "outputs": [
    {
     "name": "stdout",
     "output_type": "stream",
     "text": [
      "Model: \"model\"\n",
      "_________________________________________________________________\n",
      " Layer (type)                Output Shape              Param #   \n",
      "=================================================================\n",
      " input_layer (InputLayer)    [(None, 100)]             0         \n",
      "                                                                 \n",
      " dense (Dense)               (None, 359552)            36314752  \n",
      "                                                                 \n",
      " leaky_re_lu (LeakyReLU)     (None, 359552)            0         \n",
      "                                                                 \n",
      " reshape (Reshape)           (None, 53, 53, 128)       0         \n",
      "                                                                 \n",
      " dense_1 (Dense)             (None, 53, 53, 1024)      132096    \n",
      "                                                                 \n",
      " conv2d_transpose (Conv2DTra  (None, 106, 106, 1024)   16778240  \n",
      " nspose)                                                         \n",
      "                                                                 \n",
      " dense_2 (Dense)             (None, 106, 106, 1024)    1049600   \n",
      "                                                                 \n",
      " leaky_re_lu_1 (LeakyReLU)   (None, 106, 106, 1024)    0         \n",
      "                                                                 \n",
      " dense_3 (Dense)             (None, 106, 106, 1024)    1049600   \n",
      "                                                                 \n",
      " conv2d (Conv2D)             (None, 106, 106, 1)       50177     \n",
      "                                                                 \n",
      "=================================================================\n",
      "Total params: 55,374,465\n",
      "Trainable params: 55,374,465\n",
      "Non-trainable params: 0\n",
      "_________________________________________________________________\n",
      "Model: \"model_1\"\n",
      "_________________________________________________________________\n",
      " Layer (type)                Output Shape              Param #   \n",
      "=================================================================\n",
      " input_layer (InputLayer)    [(None, 106, 106, 1)]     0         \n",
      "                                                                 \n",
      " conv2d_1 (Conv2D)           (None, 53, 53, 64)        640       \n",
      "                                                                 \n",
      " leaky_re_lu_2 (LeakyReLU)   (None, 53, 53, 64)        0         \n",
      "                                                                 \n",
      " dropout (Dropout)           (None, 53, 53, 64)        0         \n",
      "                                                                 \n",
      " conv2d_2 (Conv2D)           (None, 27, 27, 64)        36928     \n",
      "                                                                 \n",
      " leaky_re_lu_3 (LeakyReLU)   (None, 27, 27, 64)        0         \n",
      "                                                                 \n",
      " dropout_1 (Dropout)         (None, 27, 27, 64)        0         \n",
      "                                                                 \n",
      " flatten (Flatten)           (None, 46656)             0         \n",
      "                                                                 \n",
      " batch_normalization (BatchN  (None, 46656)            186624    \n",
      " ormalization)                                                   \n",
      "                                                                 \n",
      " dense_4 (Dense)             (None, 1)                 46657     \n",
      "                                                                 \n",
      "=================================================================\n",
      "Total params: 270,849\n",
      "Trainable params: 0\n",
      "Non-trainable params: 270,849\n",
      "_________________________________________________________________\n",
      "Model: \"model_2\"\n",
      "_________________________________________________________________\n",
      " Layer (type)                Output Shape              Param #   \n",
      "=================================================================\n",
      " input_1 (InputLayer)        [(None, 100)]             0         \n",
      "                                                                 \n",
      " model (Functional)          (None, 106, 106, 1)       55374465  \n",
      "                                                                 \n",
      " model_1 (Functional)        (None, 1)                 270849    \n",
      "                                                                 \n",
      "=================================================================\n",
      "Total params: 55,645,314\n",
      "Trainable params: 55,374,465\n",
      "Non-trainable params: 270,849\n",
      "_________________________________________________________________\n"
     ]
    },
    {
     "name": "stderr",
     "output_type": "stream",
     "text": [
      "c:\\Users\\ktrin\\miniconda3\\envs\\W266\\lib\\site-packages\\keras\\optimizer_v2\\adam.py:105: UserWarning: The `lr` argument is deprecated, use `learning_rate` instead.\n",
      "  super(Adam, self).__init__(name, **kwargs)\n"
     ]
    },
    {
     "data": {
      "text/plain": [
       "(None, None, None)"
      ]
     },
     "execution_count": 13,
     "metadata": {},
     "output_type": "execute_result"
    }
   ],
   "source": [
    "latent_dim = 100\n",
    "g_model = caption_enhanced_generator(latent_dim)\n",
    "d_model = caption_enhanced_discriminator()\n",
    "gan_model = caption_enhanced_miniGAN(g_model, d_model)\n",
    "g_model.summary(), d_model.summary(), gan_model.summary()"
   ]
  },
  {
   "cell_type": "code",
   "execution_count": 14,
   "metadata": {},
   "outputs": [
    {
     "data": {
      "image/png": "[encoded data removed]",
      "text/plain": [
       "<IPython.core.display.Image object>"
      ]
     },
     "execution_count": 14,
     "metadata": {},
     "output_type": "execute_result"
    }
   ],
   "source": [
    "# plot the generated model\n",
    "keras.utils.plot_model(g_model, show_shapes=True, dpi=90)"
   ]
  },
  {
   "cell_type": "code",
   "execution_count": 27,
   "metadata": {},
   "outputs": [],
   "source": [
    "# # plot the generated model\n",
    "# keras.utils.plot_model(d_model, show_shapes=True, dpi=90)"
   ]
  },
  {
   "cell_type": "code",
   "execution_count": 28,
   "metadata": {},
   "outputs": [],
   "source": [
    "# # plot the generated model\n",
    "# keras.utils.plot_model(gan_model, show_shapes=True, dpi=90)"
   ]
  },
  {
   "cell_type": "code",
   "execution_count": 15,
   "metadata": {},
   "outputs": [],
   "source": [
    "# read in the training data\n",
    "import random\n",
    "random.seed(5634)\n",
    "\n",
    "training_set = joblib.load('../data/piano-labelled/training_set.joblib')\n",
    "training_set = random.sample(training_set, 2048) #5 is the lenth of the sample\n",
    "# images, captions = zip(*training_set)\n",
    "# images = np.array(images)\n",
    "# captions = np.array(captions)\n",
    "# images.shape, captions.shape"
   ]
  },
  {
   "cell_type": "code",
   "execution_count": 16,
   "metadata": {},
   "outputs": [],
   "source": [
    "def generate_real_samples(dataset, n_samples):\n",
    "    # slice the image and caption from the dataset\n",
    "    # generate 'real' class labels (1)\n",
    "    images, captions = zip(*dataset)\n",
    "    images = np.array(images)\n",
    "    captions = np.array(captions)\n",
    "    ix = np.random.randint(0, images.shape[0], n_samples)\n",
    "    X_img = images[ix]   \n",
    "    X_cap = captions[ix]\n",
    "    y = np.ones((n_samples, 1))\n",
    "    return X_img, X_cap, y\n",
    " \n",
    "def generate_latent_points(latent_dim, n_samples):\n",
    "    x_input = np.random.randn(latent_dim * n_samples)\n",
    "    x_input = x_input.reshape(n_samples, latent_dim)\n",
    "    return x_input\n",
    "\n",
    "def generate_fake_samples(g_model, latent_dim, caption, n_samples):\n",
    "    x_input = generate_latent_points(latent_dim, n_samples)\n",
    "    X = g_model.predict(x_input)\n",
    "    y = np.zeros((n_samples, 1))\n",
    "    return X, y"
   ]
  },
  {
   "cell_type": "code",
   "execution_count": 17,
   "metadata": {},
   "outputs": [],
   "source": [
    "# # generate samples and save as a plot and save the model\n",
    "# def summarize_performance(step, g_model, gan_model, latent_dim, x_cap, n_samples=100):\n",
    "# \t# prepare fake examples\n",
    "# \tX, _ = generate_fake_samples(g_model, latent_dim, x_cap, n_samples)\n",
    "#     # save plot\n",
    "# \t# scale from [-1,1] to [0,1]\n",
    "# \tX = (X + 1) / 2.0\n",
    "# \t# plot images\n",
    "# \tfor i in range(100):\n",
    "# \t\t# define subplot\n",
    "# \t\tplt.subplot(10, 10, 1 + i)\n",
    "# \t\t# turn off axis\n",
    "# \t\tplt.axis('off')\n",
    "# \t\t# plot raw pixel data\n",
    "# \t\tplt.imshow(X[i, :, :, 0], cmap='gray_r')\n",
    "# \t# save plot to file\n",
    "# \tfilename1 = 'generated_plot_%04d.png' % (step+1)\n",
    "# \tplt.savefig(filename1)\n",
    "# \tplt.close()\n",
    "# \t# save the generator model\n",
    "# \tfilename2 = 'model_%04d.h5' % (step+1)\n",
    "# \tg_model.save(filename2)\n",
    "# \t# save the gan model\n",
    "# \tfilename3 = 'gan_model_%04d.h5' % (step+1)\n",
    "# \tgan_model.save(filename3)\n",
    "# \tprint('>Saved: %s, %s, and %s' % (filename1, filename2, filename3))"
   ]
  },
  {
   "cell_type": "code",
   "execution_count": 18,
   "metadata": {},
   "outputs": [],
   "source": [
    "def train(g_model, d_model, gan_model, dataset, latent_dim, n_epochs=50, n_batch=16):\n",
    "    bat_per_epo = int(len(dataset) / n_batch)\n",
    "    half_batch = int(n_batch / 2)\n",
    "    for i in range(n_epochs):\n",
    "        for j in range(bat_per_epo):\n",
    "            # prepare a mini batch of real and fake sample\n",
    "            X_img_real, x_cap_real, y_real = generate_real_samples(dataset, half_batch)\n",
    "            X_img_fake, y_fake = generate_fake_samples(g_model, latent_dim, x_cap_real, half_batch)\n",
    "\n",
    "            # print(X_img_real, X_img_fake)\n",
    "            \n",
    "            # use real caption input to generate a fake image\n",
    "            # train the discriminator on fake images generate from real caption and a set of latent points\n",
    "            X, y = np.vstack((X_img_real, X_img_fake)), np.vstack((y_real, y_fake))        \n",
    "            d_loss, _ = d_model.train_on_batch(X, y)\n",
    "            \n",
    "            # print(\"Discriminator Loss: \", (d_loss, _))\n",
    "            # prepare points in latent space and fetch some real caption input\n",
    "\n",
    "            X_img_real_full, x_cap_real_full, y_real_full = generate_real_samples(dataset, n_batch)\n",
    "            X_gan = generate_latent_points(latent_dim, n_batch)\n",
    "            y_gan = np.ones((n_batch, 1))\n",
    "\n",
    "            # perform full batch training on e2e GAN model \n",
    "            # using the latent point and real caption as input\n",
    "            g_loss = gan_model.train_on_batch(X_gan, y_gan)\n",
    "            print('>%d, %d/%d, d=%.3f, g=%.3f' % (i+1, j+1, bat_per_epo, d_loss, g_loss))\n",
    "\n",
    "            # test print the image\n",
    "            # X = g_model.predict([X_gan, x_cap_real_full])\n",
    "            # print(np.unique(X))\n",
    "\n",
    "        if (i+1) % 2 == 0:\n",
    "            # summarize_performance(i, g_model, d_model, dataset, latent_dim)\n",
    "            clear_output()"
   ]
  },
  {
   "cell_type": "code",
   "execution_count": 19,
   "metadata": {},
   "outputs": [],
   "source": [
    "train(g_model, d_model, gan_model, training_set, latent_dim, n_epochs=2)"
   ]
  },
  {
   "cell_type": "code",
   "execution_count": 22,
   "metadata": {},
   "outputs": [
    {
     "name": "stdout",
     "output_type": "stream",
     "text": [
      "WARNING:tensorflow:Compiled the loaded model, but the compiled metrics have yet to be built. `model.compile_metrics` will be empty until you train or evaluate the model.\n"
     ]
    }
   ],
   "source": [
    "# save the model\n",
    "g_model.save('../models/mini-gan/caption_piano_generator_model.h5')\n",
    "d_model.save('../models/mini-gan/caption_piano_discriminator_model.h5')\n",
    "gan_model.save('../models/mini-gan/caption_piano_gan_model.h5')"
   ]
  },
  {
   "cell_type": "code",
   "execution_count": 23,
   "metadata": {},
   "outputs": [
    {
     "name": "stdout",
     "output_type": "stream",
     "text": [
      "WARNING:tensorflow:No training configuration found in the save file, so the model was *not* compiled. Compile it manually.\n"
     ]
    }
   ],
   "source": [
    "# Load model\n",
    "g_model = keras.models.load_model('../models/mini-gan/caption_piano_generator_model.h5')"
   ]
  },
  {
   "cell_type": "code",
   "execution_count": 32,
   "metadata": {},
   "outputs": [
    {
     "data": {
      "text/plain": [
       "(array([\"the tempo slows down, making the valence decrease. the arousal, however, gets more intense because the sound get's louder. it'. the valence is not changing because the piece is static. the arousal is also not changing, because it is static.\"],\n",
       "       dtype=object),\n",
       " array([[3452, 3053, 3031, 2758,  891, 3451, 1846, 3053, 3290,  738, 3451,\n",
       "         3053,  199, 3451, 1467, 3451, 1289, 1970, 1563,  291]]))"
      ]
     },
     "execution_count": 32,
     "metadata": {},
     "output_type": "execute_result"
    }
   ],
   "source": [
    "# select a random row from the metadata to get the caption\n",
    "row = midi_meta.sample(1, random_state=74)\n",
    "\n",
    "# get a random image tokenize caption and actual caption\n",
    "NLP_caption = row['caption_list'].values\n",
    "caption = [np.array(a) for a in row['tokenized_captions'].values]\n",
    "caption = np.array(caption)\n",
    "NLP_caption, caption"
   ]
  },
  {
   "cell_type": "code",
   "execution_count": 21,
   "metadata": {},
   "outputs": [
    {
     "data": {
      "text/plain": [
       "((1, 100),)"
      ]
     },
     "execution_count": 21,
     "metadata": {},
     "output_type": "execute_result"
    }
   ],
   "source": [
    "def generate_latent_points(latent_dim, n_samples):\n",
    "    x_input = np.random.randn(latent_dim * n_samples)\n",
    "    x_input = x_input.reshape(n_samples, latent_dim)\n",
    "    return x_input\n",
    "\n",
    "\n",
    "# declare a latent space\n",
    "latent_dim = 100\n",
    "latent_points = generate_latent_points(latent_dim, 1)\n",
    "latent_points.shape, #caption.shape"
   ]
  },
  {
   "cell_type": "code",
   "execution_count": 22,
   "metadata": {},
   "outputs": [
    {
     "data": {
      "text/plain": [
       "(array([0, 1], dtype=uint8),\n",
       " array([[[[0.0000000e+00],\n",
       "          [0.0000000e+00],\n",
       "          [0.0000000e+00],\n",
       "          ...,\n",
       "          [0.0000000e+00],\n",
       "          [0.0000000e+00],\n",
       "          [0.0000000e+00]],\n",
       " \n",
       "         [[0.0000000e+00],\n",
       "          [0.0000000e+00],\n",
       "          [0.0000000e+00],\n",
       "          ...,\n",
       "          [0.0000000e+00],\n",
       "          [0.0000000e+00],\n",
       "          [3.8861237e-34]],\n",
       " \n",
       "         [[0.0000000e+00],\n",
       "          [0.0000000e+00],\n",
       "          [0.0000000e+00],\n",
       "          ...,\n",
       "          [0.0000000e+00],\n",
       "          [0.0000000e+00],\n",
       "          [0.0000000e+00]],\n",
       " \n",
       "         ...,\n",
       " \n",
       "         [[0.0000000e+00],\n",
       "          [0.0000000e+00],\n",
       "          [0.0000000e+00],\n",
       "          ...,\n",
       "          [0.0000000e+00],\n",
       "          [0.0000000e+00],\n",
       "          [0.0000000e+00]],\n",
       " \n",
       "         [[0.0000000e+00],\n",
       "          [0.0000000e+00],\n",
       "          [0.0000000e+00],\n",
       "          ...,\n",
       "          [0.0000000e+00],\n",
       "          [0.0000000e+00],\n",
       "          [0.0000000e+00]],\n",
       " \n",
       "         [[0.0000000e+00],\n",
       "          [0.0000000e+00],\n",
       "          [0.0000000e+00],\n",
       "          ...,\n",
       "          [0.0000000e+00],\n",
       "          [0.0000000e+00],\n",
       "          [0.0000000e+00]]]], dtype=float32))"
      ]
     },
     "execution_count": 22,
     "metadata": {},
     "output_type": "execute_result"
    }
   ],
   "source": [
    "model = g_model\n",
    "X = g_model.predict(latent_points)\n",
    "array = np.array(X.reshape(106,106),dtype = np.uint8)\n",
    "np.unique(array), X"
   ]
  },
  {
   "cell_type": "code",
   "execution_count": 23,
   "metadata": {},
   "outputs": [],
   "source": [
    "array*=255\n",
    "new_image = Image.fromarray(array,'L')\n",
    "new_image = new_image.save(f'../data/midi_reconstruction/images/captioned_piece_test_no_cap.png')"
   ]
  },
  {
   "cell_type": "code",
   "execution_count": null,
   "metadata": {},
   "outputs": [],
   "source": [
    "# for i in range(len(X)):\n",
    "#     array = np.array(X[i].reshape(106,106),dtype = np.uint8)\n",
    "#     array*=255\n",
    "#     new_image = Image.fromarray(array,'L')\n",
    "#     new_image = new_image.save(f'../data/midi_reconstruction/images/captioned_piece_g40_{i}.png')"
   ]
  },
  {
   "cell_type": "code",
   "execution_count": 24,
   "metadata": {},
   "outputs": [],
   "source": [
    "# reconvert MIDI images to MIDI files\n",
    "image_path = \"../data/midi_reconstruction/images/captioned_piece_test_no_cap.png\"\n",
    "output_path = \"../data/midi_reconstruction\"\n",
    "\n",
    "img2midi_obj = img2midi(image_path, output_path, resolution=0.25)\n",
    "img2midi_obj.convert_to_midi()"
   ]
  },
  {
   "cell_type": "code",
   "execution_count": 179,
   "metadata": {},
   "outputs": [],
   "source": [
    "# run to cell to play\n",
    "# stop the cell and run sp.stop to stop the music\n",
    "from music21 import midi, converter, instrument, note, chord\n",
    "\n",
    "mf = midi.MidiFile()\n",
    "mf.open(f\"{output_path}/music.mid\")\n",
    "mf.read()\n",
    "mf.close()\n",
    "s = midi.translate.midiFileToStream(mf)\n",
    "sp = midi.realtime.StreamPlayer(s)\n",
    "sp.play()"
   ]
  },
  {
   "cell_type": "code",
   "execution_count": 40,
   "metadata": {},
   "outputs": [
    {
     "data": {
      "text/plain": [
       "<bound method StreamPlayer.stop of <music21.midi.realtime.StreamPlayer object at 0x00000286182130D0>>"
      ]
     },
     "execution_count": 40,
     "metadata": {},
     "output_type": "execute_result"
    }
   ],
   "source": [
    "sp.stop"
   ]
  },
  {
   "cell_type": "code",
   "execution_count": null,
   "metadata": {},
   "outputs": [],
   "source": []
  }
 ],
 "metadata": {
  "kernelspec": {
   "display_name": "Python 3 (ipykernel)",
   "language": "python",
   "name": "python3"
  },
  "language_info": {
   "codemirror_mode": {
    "name": "ipython",
    "version": 3
   },
   "file_extension": ".py",
   "mimetype": "text/x-python",
   "name": "python",
   "nbconvert_exporter": "python",
   "pygments_lexer": "ipython3",
   "version": "3.9.12"
  }
 },
 "nbformat": 4,
 "nbformat_minor": 2
}
